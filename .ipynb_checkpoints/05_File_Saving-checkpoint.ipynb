{
 "cells": [
  {
   "cell_type": "markdown",
   "id": "4148e0b1",
   "metadata": {},
   "source": [
    "# 파일 저장"
   ]
  },
  {
   "cell_type": "markdown",
   "id": "5f7024bf",
   "metadata": {},
   "source": [
    "## 이미지 저장"
   ]
  },
  {
   "cell_type": "markdown",
   "id": "c654c3ee",
   "metadata": {},
   "source": [
    "### 저장 포멧(jpg, png 등등)\n",
    "jpg로 저장하기"
   ]
  },
  {
   "cell_type": "code",
   "execution_count": 2,
   "id": "ffc8abc6",
   "metadata": {},
   "outputs": [
    {
     "name": "stdout",
     "output_type": "stream",
     "text": [
      "True\n"
     ]
    }
   ],
   "source": [
    "import cv2\n",
    "\n",
    "img=cv2.imread('img.jpg',cv2.IMREAD_GRAYSCALE) # 흑백으로 이미지 불러오기\n",
    "\n",
    "cv2.imshow('img',img)\n",
    "cv2.waitKey(0)\n",
    "cv2.destroyAllWindows()\n",
    "\n",
    "save=cv2.imwrite('img_save.jpg',img) # jpg 형태로 저장\n",
    "print(save)"
   ]
  },
  {
   "cell_type": "markdown",
   "id": "b8ccbcec",
   "metadata": {},
   "source": [
    "### 저장 포멧(jpg, png 등등)\n",
    "png로 저장하기"
   ]
  },
  {
   "cell_type": "code",
   "execution_count": 3,
   "id": "3cf5ec1e",
   "metadata": {},
   "outputs": [
    {
     "data": {
      "text/plain": [
       "True"
      ]
     },
     "execution_count": 3,
     "metadata": {},
     "output_type": "execute_result"
    }
   ],
   "source": [
    "import cv2\n",
    "\n",
    "img=cv2.imread('img.jpg',cv2.IMREAD_GRAYSCALE) # 흑백으로 이미지 불러오기\n",
    "cv2.imwrite('img_save.png',img) # png 형태로 저장"
   ]
  },
  {
   "cell_type": "markdown",
   "id": "719b89a1",
   "metadata": {},
   "source": [
    "# 동영상 저장\n",
    "\n",
    "프레임 크기, FPS(frame per second)\n",
    "> width=round(cap.get(cv2.CAP_PROP_FRAME_WIDTH))\n",
    "\n",
    "> height=round(cap.get(cv2.CAP_PROP_FRAME_HEIGHT))\n",
    "\n",
    "> fps=cap.get(cv2.CAP_PROP_FPS)\n",
    "\n",
    "cv2.VideoWriter(저장 파일명, 코덱, FPS, 크기(width,height))\n",
    "> out=cv2.VideoWriter('output.avi',fourcc,fps,(width,height))"
   ]
  },
  {
   "cell_type": "markdown",
   "id": "63edc9c7",
   "metadata": {},
   "source": [
    "## 기본"
   ]
  },
  {
   "cell_type": "code",
   "execution_count": 7,
   "id": "aba11980",
   "metadata": {},
   "outputs": [
    {
     "name": "stdout",
     "output_type": "stream",
     "text": [
      "더 이상 가져올 프레임이 없어요\n"
     ]
    }
   ],
   "source": [
    "import cv2\n",
    "\n",
    "cap=cv2.VideoCapture('video.mp4')\n",
    "\n",
    "# 코덱 정의\n",
    "fourcc=cv2.VideoWriter_fourcc(*'DIVX') # (*'DIVX')=('D','I','V','X') 와 같다.\n",
    "\n",
    "# 프레임 크기, FPS(frame per second) 설정\n",
    "width=round(cap.get(cv2.CAP_PROP_FRAME_WIDTH))\n",
    "height=round(cap.get(cv2.CAP_PROP_FRAME_HEIGHT))\n",
    "fps=cap.get(cv2.CAP_PROP_FPS)\n",
    "\n",
    "out=cv2.VideoWriter('output.avi',fourcc,fps,(width,height))\n",
    "# 저장 파일명, 코덱, FPS, 크기(width,height)\n",
    "\n",
    "while cap.isOpened():\n",
    "    ret,frame=cap.read() # ret: 성공 여부, frame: 받아온 이미지(프레임)\n",
    "    if not ret:\n",
    "        print('더 이상 가져올 프레임이 없어요')\n",
    "        break\n",
    "    \n",
    "    out.write(frame) # 영상 데이터만 저장(소리 X)\n",
    "    cv2.imshow('video',frame)\n",
    "    \n",
    "    if cv2.waitKey(25)==ord('q'):\n",
    "        print('사용자 입력에 의해 종료합니다')\n",
    "        break\n",
    "\n",
    "out.release() # 자원 해제\n",
    "cap.release() # 자원 해제\n",
    "cv2.destroyAllWindows() # 모든 창 닫기"
   ]
  },
  {
   "cell_type": "markdown",
   "id": "3fd39001",
   "metadata": {},
   "source": [
    "## 변형해서 저장하기\n",
    "\n",
    "프레임 크기, FPS(frame per second)\n",
    "> width=round(cap.get(cv2.CAP_PROP_FRAME_WIDTH))\n",
    "\n",
    "> height=round(cap.get(cv2.CAP_PROP_FRAME_HEIGHT))\n",
    "\n",
    "> fps=cap.get(cv2.CAP_PROP_FPS)"
   ]
  },
  {
   "cell_type": "code",
   "execution_count": 8,
   "id": "7543f6a9",
   "metadata": {},
   "outputs": [
    {
     "name": "stdout",
     "output_type": "stream",
     "text": [
      "더 이상 가져올 프레임이 없어요\n"
     ]
    }
   ],
   "source": [
    "import cv2\n",
    "\n",
    "cap=cv2.VideoCapture('video.mp4')\n",
    "\n",
    "# 코덱 정의\n",
    "fourcc=cv2.VideoWriter_fourcc(*'DIVX') # (*'DIVX')=('D','I','V','X') 와 같다.\n",
    "\n",
    "# 프레임 크기, FPS(frame per second) 설정\n",
    "width=round(cap.get(cv2.CAP_PROP_FRAME_WIDTH))\n",
    "height=round(cap.get(cv2.CAP_PROP_FRAME_HEIGHT))\n",
    "fps=cap.get(cv2.CAP_PROP_FPS)*2 # 영상 재생 속도가 2배\n",
    "\n",
    "out=cv2.VideoWriter('output_fast.avi',fourcc,fps,(width,height))\n",
    "# 저장 파일명, 코덱, FPS, 크기(width,height)\n",
    "\n",
    "while cap.isOpened():\n",
    "    ret,frame=cap.read() # ret: 성공 여부, frame: 받아온 이미지(프레임)\n",
    "    if not ret:\n",
    "        print('더 이상 가져올 프레임이 없어요')\n",
    "        break\n",
    "    \n",
    "    out.write(frame) # 영상 데이터만 저장(소리 X)\n",
    "    cv2.imshow('video',frame)\n",
    "    \n",
    "    if cv2.waitKey(25)==ord('q'):\n",
    "        print('사용자 입력에 의해 종료합니다')\n",
    "        break\n",
    "\n",
    "out.release() # 자원 해제\n",
    "cap.release() # 자원 해제\n",
    "cv2.destroyAllWindows() # 모든 창 닫기"
   ]
  }
 ],
 "metadata": {
  "kernelspec": {
   "display_name": "Python 3 (ipykernel)",
   "language": "python",
   "name": "python3"
  },
  "language_info": {
   "codemirror_mode": {
    "name": "ipython",
    "version": 3
   },
   "file_extension": ".py",
   "mimetype": "text/x-python",
   "name": "python",
   "nbconvert_exporter": "python",
   "pygments_lexer": "ipython3",
   "version": "3.11.7"
  },
  "toc": {
   "base_numbering": 1,
   "nav_menu": {},
   "number_sections": true,
   "sideBar": true,
   "skip_h1_title": false,
   "title_cell": "Table of Contents",
   "title_sidebar": "Contents",
   "toc_cell": false,
   "toc_position": {
    "height": "calc(100% - 180px)",
    "left": "10px",
    "top": "150px",
    "width": "310.417px"
   },
   "toc_section_display": true,
   "toc_window_display": false
  },
  "varInspector": {
   "cols": {
    "lenName": 16,
    "lenType": 16,
    "lenVar": 40
   },
   "kernels_config": {
    "python": {
     "delete_cmd_postfix": "",
     "delete_cmd_prefix": "del ",
     "library": "var_list.py",
     "varRefreshCmd": "print(var_dic_list())"
    },
    "r": {
     "delete_cmd_postfix": ") ",
     "delete_cmd_prefix": "rm(",
     "library": "var_list.r",
     "varRefreshCmd": "cat(var_dic_list()) "
    }
   },
   "types_to_exclude": [
    "module",
    "function",
    "builtin_function_or_method",
    "instance",
    "_Feature"
   ],
   "window_display": false
  }
 },
 "nbformat": 4,
 "nbformat_minor": 5
}
