{
 "cells": [
  {
   "cell_type": "markdown",
   "id": "796d12c7",
   "metadata": {},
   "source": [
    "# 이미지 변형(흑백)"
   ]
  },
  {
   "cell_type": "markdown",
   "id": "ffe97c9c",
   "metadata": {},
   "source": [
    "## 이미지를 흑백으로 읽어오기\n",
    "(01_Image_Output 파일 참고)"
   ]
  },
  {
   "cell_type": "code",
   "execution_count": 3,
   "id": "deb450bc",
   "metadata": {},
   "outputs": [],
   "source": [
    "import cv2\n",
    "\n",
    "img_gray=cv2.imread('img.jpg',cv2.IMREAD_GRAYSCALE)\n",
    "\n",
    "cv2.imshow('img_gray',img_gray)\n",
    "\n",
    "cv2.waitKey(0) # 지정된 시간동안 사용자 키 입력 대기 // waitKey()에 숫자를 입력하면 그 시간(단위는 밀리초) 동안 창이 열려 있다가 자동으로 닫힘\n",
    "cv2.destroyAllWindows() # 모든 창 닫기"
   ]
  },
  {
   "cell_type": "markdown",
   "id": "33464c73",
   "metadata": {},
   "source": [
    "## 원본 이미지를 불러온 후 흑백으로 변경하기\n",
    "\n",
    "cv2.cvtColor(이미지명,cv2.COLOR_BGR2GRAY)"
   ]
  },
  {
   "cell_type": "code",
   "execution_count": 5,
   "id": "f34b2426",
   "metadata": {},
   "outputs": [],
   "source": [
    "import cv2\n",
    "\n",
    "img=cv2.imread('img.jpg')\n",
    "\n",
    "convert=cv2.cvtColor(img,cv2.COLOR_BGR2GRAY)\n",
    "\n",
    "cv2.imshow('img',img)\n",
    "cv2.imshow('gray_convert',convert)\n",
    "\n",
    "cv2.waitKey(0) # 지정된 시간동안 사용자 키 입력 대기 // waitKey()에 숫자를 입력하면 그 시간(단위는 밀리초) 동안 창이 열려 있다가 자동으로 닫힘\n",
    "cv2.destroyAllWindows() # 모든 창 닫기"
   ]
  }
 ],
 "metadata": {
  "kernelspec": {
   "display_name": "Python 3 (ipykernel)",
   "language": "python",
   "name": "python3"
  },
  "language_info": {
   "codemirror_mode": {
    "name": "ipython",
    "version": 3
   },
   "file_extension": ".py",
   "mimetype": "text/x-python",
   "name": "python",
   "nbconvert_exporter": "python",
   "pygments_lexer": "ipython3",
   "version": "3.11.7"
  },
  "toc": {
   "base_numbering": 1,
   "nav_menu": {},
   "number_sections": true,
   "sideBar": true,
   "skip_h1_title": false,
   "title_cell": "Table of Contents",
   "title_sidebar": "Contents",
   "toc_cell": false,
   "toc_position": {},
   "toc_section_display": true,
   "toc_window_display": false
  },
  "varInspector": {
   "cols": {
    "lenName": 16,
    "lenType": 16,
    "lenVar": 40
   },
   "kernels_config": {
    "python": {
     "delete_cmd_postfix": "",
     "delete_cmd_prefix": "del ",
     "library": "var_list.py",
     "varRefreshCmd": "print(var_dic_list())"
    },
    "r": {
     "delete_cmd_postfix": ") ",
     "delete_cmd_prefix": "rm(",
     "library": "var_list.r",
     "varRefreshCmd": "cat(var_dic_list()) "
    }
   },
   "types_to_exclude": [
    "module",
    "function",
    "builtin_function_or_method",
    "instance",
    "_Feature"
   ],
   "window_display": false
  }
 },
 "nbformat": 4,
 "nbformat_minor": 5
}
