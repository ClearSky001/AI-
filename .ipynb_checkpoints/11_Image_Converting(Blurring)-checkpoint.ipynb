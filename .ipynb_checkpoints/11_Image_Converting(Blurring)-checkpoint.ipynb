{
 "cells": [
  {
   "cell_type": "markdown",
   "id": "6c834246",
   "metadata": {},
   "source": [
    "# 이미지 변형(흐림)"
   ]
  },
  {
   "cell_type": "markdown",
   "id": "539016fd",
   "metadata": {},
   "source": [
    "## 가우시안 블러\n",
    "\n",
    "cv2.GaussianBlur(이미지명,커널 사이즈,sigmaX)"
   ]
  },
  {
   "cell_type": "markdown",
   "id": "7695b2be",
   "metadata": {},
   "source": [
    "### 커널 사이즈 변화에 따른 블러\n",
    "\n",
    "커널 사이즈 : (3,3), (5,5), (7,7) 등 홀수들 중에서 선택"
   ]
  },
  {
   "cell_type": "code",
   "execution_count": 1,
   "id": "4540edb1",
   "metadata": {},
   "outputs": [],
   "source": [
    "import cv2\n",
    "\n",
    "img=cv2.imread('img.jpg')\n",
    "\n",
    "kernal_3=cv2.GaussianBlur(img,(3,3),0)\n",
    "kernal_5=cv2.GaussianBlur(img,(5,5),0)\n",
    "kernal_7=cv2.GaussianBlur(img,(7,7),0)\n",
    "\n",
    "cv2.imshow('img',img)\n",
    "cv2.imshow('kernal_3',kernal_3)\n",
    "cv2.imshow('kernal_5',kernal_5)\n",
    "cv2.imshow('kernal_7',kernal_7)\n",
    "\n",
    "cv2.waitKey(0)\n",
    "cv2.destroyAllWindows()"
   ]
  },
  {
   "cell_type": "markdown",
   "id": "a18a1be3",
   "metadata": {},
   "source": [
    "### 표준 편차 변화에 따른 블러\n",
    "\n",
    "sigmaX : 가우시안 커널의 x 방향의 표준편차 값"
   ]
  },
  {
   "cell_type": "code",
   "execution_count": 3,
   "id": "b59f030e",
   "metadata": {},
   "outputs": [],
   "source": [
    "import cv2\n",
    "\n",
    "img=cv2.imread('img.jpg')\n",
    "\n",
    "sigma_1=cv2.GaussianBlur(img,(0,0),1)\n",
    "sigma_2=cv2.GaussianBlur(img,(0,0),2)\n",
    "sigma_3=cv2.GaussianBlur(img,(0,0),3)\n",
    "\n",
    "cv2.imshow('img',img)\n",
    "cv2.imshow('sigma_1',sigma_1)\n",
    "cv2.imshow('sigma_2',sigma_2)\n",
    "cv2.imshow('sigma_3',sigma_3)\n",
    "\n",
    "cv2.waitKey(0)\n",
    "cv2.destroyAllWindows()"
   ]
  }
 ],
 "metadata": {
  "kernelspec": {
   "display_name": "Python 3 (ipykernel)",
   "language": "python",
   "name": "python3"
  },
  "language_info": {
   "codemirror_mode": {
    "name": "ipython",
    "version": 3
   },
   "file_extension": ".py",
   "mimetype": "text/x-python",
   "name": "python",
   "nbconvert_exporter": "python",
   "pygments_lexer": "ipython3",
   "version": "3.11.7"
  },
  "toc": {
   "base_numbering": 1,
   "nav_menu": {},
   "number_sections": true,
   "sideBar": true,
   "skip_h1_title": false,
   "title_cell": "Table of Contents",
   "title_sidebar": "Contents",
   "toc_cell": false,
   "toc_position": {
    "height": "calc(100% - 180px)",
    "left": "10px",
    "top": "150px",
    "width": "310.417px"
   },
   "toc_section_display": true,
   "toc_window_display": false
  },
  "varInspector": {
   "cols": {
    "lenName": 16,
    "lenType": 16,
    "lenVar": 40
   },
   "kernels_config": {
    "python": {
     "delete_cmd_postfix": "",
     "delete_cmd_prefix": "del ",
     "library": "var_list.py",
     "varRefreshCmd": "print(var_dic_list())"
    },
    "r": {
     "delete_cmd_postfix": ") ",
     "delete_cmd_prefix": "rm(",
     "library": "var_list.r",
     "varRefreshCmd": "cat(var_dic_list()) "
    }
   },
   "types_to_exclude": [
    "module",
    "function",
    "builtin_function_or_method",
    "instance",
    "_Feature"
   ],
   "window_display": false
  }
 },
 "nbformat": 4,
 "nbformat_minor": 5
}
