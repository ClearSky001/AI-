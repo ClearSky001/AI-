{
 "cells": [
  {
   "cell_type": "markdown",
   "id": "58b7ccb6",
   "metadata": {},
   "source": [
    "# 동영상 출력"
   ]
  },
  {
   "cell_type": "markdown",
   "id": "054eafd8",
   "metadata": {},
   "source": [
    "## 동영상 파일 출력"
   ]
  },
  {
   "cell_type": "code",
   "execution_count": 17,
   "id": "1cbfea8e",
   "metadata": {},
   "outputs": [
    {
     "name": "stdout",
     "output_type": "stream",
     "text": [
      "사용자 입력에 의해 종료합니다\n"
     ]
    }
   ],
   "source": [
    "import cv2\n",
    "\n",
    "cap=cv2.VideoCapture('video.mp4')\n",
    "\n",
    "while cap.isOpened():\n",
    "    ret,frame=cap.read() # ret: 성공 여부, frame: 받아온 이미지(프레임)\n",
    "    if not ret:\n",
    "        print('더 이상 가져올 프레임이 없어요')\n",
    "        break\n",
    "    \n",
    "    cv2.imshow('video',frame)\n",
    "    \n",
    "    if cv2.waitKey(25)==ord('q'): # 지정된 시간동안 사용자 키 입력 대기 // waitKey()에 숫자를 입력하면 그 시간(단위는 밀리초) 동안 창이 열려 있다가 자동으로 닫힘\n",
    "# waitKey()로 동영상의 재생 속도 조절, 사용자가 q 키를 누르면 종료\n",
    "        print('사용자 입력에 의해 종료합니다')\n",
    "        break\n",
    "        \n",
    "cap.release() # 자원 해제\n",
    "cv2.destroyAllWindows() # 모든 창 닫기"
   ]
  },
  {
   "cell_type": "markdown",
   "id": "f12c80df",
   "metadata": {},
   "source": [
    "## 카메라 출력"
   ]
  },
  {
   "cell_type": "code",
   "execution_count": 20,
   "id": "aaf05a27",
   "metadata": {},
   "outputs": [
    {
     "name": "stdout",
     "output_type": "stream",
     "text": [
      "사용자 입력에 의해 종료합니다\n"
     ]
    }
   ],
   "source": [
    "import cv2\n",
    "\n",
    "cap=cv2.VideoCapture(0) # 0번째 카메라 장치(Device ID)\n",
    "\n",
    "if not cap. isOpened(): # 카메라가 잘 열리지 않은 경우\n",
    "    exit() # 프로그램 종료\n",
    "\n",
    "while True:\n",
    "    ret,frame=cap.read()\n",
    "    if not ret:\n",
    "        break\n",
    "    \n",
    "    cv2.imshow('camera',frame)\n",
    "    \n",
    "    if cv2.waitKey(1)==ord('p'): # 카메라의 경우에는 제한 시간이 없음 ,사용자가 p 키를 누르면 종료\n",
    "        print('사용자 입력에 의해 종료합니다')\n",
    "        break\n",
    "        \n",
    "cap.release() # 자원 해제\n",
    "cv2.destroyAllWindows() # 모든 창 닫기"
   ]
  }
 ],
 "metadata": {
  "kernelspec": {
   "display_name": "Python 3 (ipykernel)",
   "language": "python",
   "name": "python3"
  },
  "language_info": {
   "codemirror_mode": {
    "name": "ipython",
    "version": 3
   },
   "file_extension": ".py",
   "mimetype": "text/x-python",
   "name": "python",
   "nbconvert_exporter": "python",
   "pygments_lexer": "ipython3",
   "version": "3.11.7"
  },
  "toc": {
   "base_numbering": 1,
   "nav_menu": {},
   "number_sections": true,
   "sideBar": true,
   "skip_h1_title": false,
   "title_cell": "Table of Contents",
   "title_sidebar": "Contents",
   "toc_cell": false,
   "toc_position": {
    "height": "calc(100% - 180px)",
    "left": "10px",
    "top": "150px",
    "width": "310.417px"
   },
   "toc_section_display": true,
   "toc_window_display": false
  },
  "varInspector": {
   "cols": {
    "lenName": 16,
    "lenType": 16,
    "lenVar": 40
   },
   "kernels_config": {
    "python": {
     "delete_cmd_postfix": "",
     "delete_cmd_prefix": "del ",
     "library": "var_list.py",
     "varRefreshCmd": "print(var_dic_list())"
    },
    "r": {
     "delete_cmd_postfix": ") ",
     "delete_cmd_prefix": "rm(",
     "library": "var_list.r",
     "varRefreshCmd": "cat(var_dic_list()) "
    }
   },
   "types_to_exclude": [
    "module",
    "function",
    "builtin_function_or_method",
    "instance",
    "_Feature"
   ],
   "window_display": false
  }
 },
 "nbformat": 4,
 "nbformat_minor": 5
}
