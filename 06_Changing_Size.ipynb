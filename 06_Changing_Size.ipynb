{
 "cells": [
  {
   "cell_type": "markdown",
   "id": "b325a064",
   "metadata": {},
   "source": [
    "# 크기 조정"
   ]
  },
  {
   "cell_type": "markdown",
   "id": "d34029d8",
   "metadata": {},
   "source": [
    "## 이미지"
   ]
  },
  {
   "cell_type": "markdown",
   "id": "f84cf302",
   "metadata": {},
   "source": [
    "### 고정 크기로 설정\n",
    "\n",
    "cv2.resize(resize할 이미지의 변수명,(width,height))"
   ]
  },
  {
   "cell_type": "code",
   "execution_count": 1,
   "id": "ad215ddd",
   "metadata": {},
   "outputs": [],
   "source": [
    "import cv2\n",
    "\n",
    "image=cv2.imread('img.jpg') # 해당 경로의 파일 읽어오기\n",
    "img2=cv2.resize(image,(400,500)) # width, height 고정 크기\n",
    "\n",
    "cv2.imshow('img',image) # img라는 이름의 창에 img 표시\n",
    "cv2.imshow('resize',img2) # resize라는 이름의 창에 img2 표시\n",
    "\n",
    "cv2.waitKey(0) # 지정된 시간동안 사용자 키 입력 대기 // waitKey()에 숫자를 입력하면 그 시간(단위는 밀리초) 동안 창이 열려 있다가 자동으로 닫힘\n",
    "cv2.destroyAllWindows() # 모든 창 닫기"
   ]
  },
  {
   "cell_type": "markdown",
   "id": "3ddac9d0",
   "metadata": {},
   "source": [
    "### 비율로 설정\n",
    "\n",
    "cv2.resize(resize할 이미지의 변수명,None,fx=0.5,fy=0.5) # x 0.5배, y 0.5배"
   ]
  },
  {
   "cell_type": "code",
   "execution_count": 12,
   "id": "d935f5d8",
   "metadata": {},
   "outputs": [],
   "source": [
    "import cv2\n",
    "\n",
    "img=cv2.imread('img.jpg') # 해당 경로의 파일 읽어오기\n",
    "img2=cv2.resize(img,None,fx=0.5,fy=0.5) # x, y 비율 정의(0.5배로 축소)\n",
    "\n",
    "cv2.imshow('img',img) # img라는 이름의 창에 img 표시\n",
    "cv2.imshow('resize',img2) # resize라는 이름의 창에 img2 표시\n",
    "\n",
    "cv2.waitKey(0) # 지정된 시간동안 사용자 키 입력 대기 // waitKey()에 숫자를 입력하면 그 시간(단위는 밀리초) 동안 창이 열려 있다가 자동으로 닫힘\n",
    "cv2.destroyAllWindows() # 모든 창 닫기"
   ]
  },
  {
   "cell_type": "markdown",
   "id": "35720767",
   "metadata": {},
   "source": [
    "### 보간법\n",
    "\n",
    "보간법이란?\n",
    "\n",
    "이미지를 축소하거나 확대할 때, 자연스럽게 처리를 하기 위한 방법(축소, 확대함에 있어 화질을 자연스럽게 맞춰주는 방법인듯)\n",
    "\n",
    "1. cv2.INTER_AREA : 크기 줄일때 사용\n",
    "2. cv2.INTER_CUBIC : 크기 늘릴때 사용(속도 느림, 퀄리티 좋음)\n",
    "3. cv2.INTER_LINEAR : 크기 늘릴때 사용(기본값)"
   ]
  },
  {
   "cell_type": "markdown",
   "id": "572cda2e",
   "metadata": {},
   "source": [
    "#### 보간법을 적용하여 축소하기"
   ]
  },
  {
   "cell_type": "code",
   "execution_count": 2,
   "id": "2d3b893d",
   "metadata": {},
   "outputs": [],
   "source": [
    "import cv2\n",
    "\n",
    "img=cv2.imread('img.jpg') # 해당 경로의 파일 읽어오기\n",
    "img2=cv2.resize(img,None,fx=0.5,fy=0.5,interpolation=cv2.INTER_AREA) # x, y 비율 정의(0.5배로 축소)\n",
    "\n",
    "cv2.imshow('img',img) # img라는 이름의 창에 img 표시\n",
    "cv2.imshow('resize',img2)\n",
    "\n",
    "cv2.waitKey(0) # 지정된 시간동안 사용자 키 입력 대기 // waitKey()에 숫자를 입력하면 그 시간(단위는 밀리초) 동안 창이 열려 있다가 자동으로 닫힘\n",
    "cv2.destroyAllWindows() # 모든 창 닫기"
   ]
  },
  {
   "cell_type": "markdown",
   "id": "749974f0",
   "metadata": {},
   "source": [
    "#### 보간법을 적용하여 확대하기"
   ]
  },
  {
   "cell_type": "code",
   "execution_count": 7,
   "id": "aed608be",
   "metadata": {},
   "outputs": [],
   "source": [
    "import cv2\n",
    "\n",
    "img=cv2.imread('img.jpg') # 해당 경로의 파일 읽어오기\n",
    "img2=cv2.resize(img,None,fx=1.5,fy=1.5,interpolation=cv2.INTER_CUBIC) # x, y 비율 정의(1.5배로 확대)\n",
    "\n",
    "cv2.imshow('img',img) # img라는 이름의 창에 img 표시\n",
    "cv2.imshow('resize',img2)\n",
    "\n",
    "cv2.waitKey(0) # 지정된 시간동안 사용자 키 입력 대기 // waitKey()에 숫자를 입력하면 그 시간(단위는 밀리초) 동안 창이 열려 있다가 자동으로 닫힘\n",
    "cv2.destroyAllWindows() # 모든 창 닫기"
   ]
  },
  {
   "cell_type": "markdown",
   "id": "0d55a80a",
   "metadata": {},
   "source": [
    "## 동영상"
   ]
  },
  {
   "cell_type": "markdown",
   "id": "9ba3694f",
   "metadata": {},
   "source": [
    "### 고정 크기로 설정"
   ]
  },
  {
   "cell_type": "code",
   "execution_count": 17,
   "id": "026d627f",
   "metadata": {},
   "outputs": [
    {
     "name": "stdout",
     "output_type": "stream",
     "text": [
      "사용자 입력에 의해 종료합니다\n"
     ]
    }
   ],
   "source": [
    "import cv2\n",
    "\n",
    "cap=cv2.VideoCapture('video.mp4')\n",
    "\n",
    "while cap.isOpened():\n",
    "    ret,frame=cap.read() # ret: 성공 여부, frame: 받아온 이미지(프레임)\n",
    "    if not ret:\n",
    "        print('더 이상 가져올 프레임이 없어요')\n",
    "        break\n",
    "    \n",
    "    frame_resize=cv2.resize(frame,(400,500))\n",
    "    \n",
    "    cv2.imshow('video',frame_resize)\n",
    "    \n",
    "    if cv2.waitKey(25)==ord('q'): # 지정된 시간동안 사용자 키 입력 대기 // waitKey()에 숫자를 입력하면 그 시간(단위는 밀리초) 동안 창이 열려 있다가 자동으로 닫힘\n",
    "# waitKey()로 동영상의 재생 속도 조절, 사용자가 q 키를 누르면 종료\n",
    "        print('사용자 입력에 의해 종료합니다')\n",
    "        break\n",
    "        \n",
    "cap.release() # 자원 해제\n",
    "cv2.destroyAllWindows() # 모든 창 닫기"
   ]
  },
  {
   "cell_type": "markdown",
   "id": "551b3e74",
   "metadata": {},
   "source": [
    "### 비율로 설정"
   ]
  },
  {
   "cell_type": "code",
   "execution_count": 14,
   "id": "f14a30fb",
   "metadata": {},
   "outputs": [
    {
     "name": "stdout",
     "output_type": "stream",
     "text": [
      "더 이상 가져올 프레임이 없어요\n"
     ]
    }
   ],
   "source": [
    "import cv2\n",
    "\n",
    "cap=cv2.VideoCapture('video.mp4')\n",
    "\n",
    "while cap.isOpened():\n",
    "    ret,frame=cap.read() # ret: 성공 여부, frame: 받아온 이미지(프레임)\n",
    "    if not ret:\n",
    "        print('더 이상 가져올 프레임이 없어요')\n",
    "        break\n",
    "    \n",
    "    frame_resized=cv2.resize(frame,None,fx=1.5,fy=1.5,interpolation=cv2.INTER_CUBIC)\n",
    "    \n",
    "    cv2.imshow('video',frame_resized)\n",
    "    \n",
    "    if cv2.waitKey(25)==ord('q'): # 지정된 시간동안 사용자 키 입력 대기 // waitKey()에 숫자를 입력하면 그 시간(단위는 밀리초) 동안 창이 열려 있다가 자동으로 닫힘\n",
    "# waitKey()로 동영상의 재생 속도 조절, 사용자가 q 키를 누르면 종료\n",
    "        print('사용자 입력에 의해 종료합니다')\n",
    "        break\n",
    "        \n",
    "cap.release() # 자원 해제\n",
    "cv2.destroyAllWindows() # 모든 창 닫기"
   ]
  }
 ],
 "metadata": {
  "kernelspec": {
   "display_name": "Python 3 (ipykernel)",
   "language": "python",
   "name": "python3"
  },
  "language_info": {
   "codemirror_mode": {
    "name": "ipython",
    "version": 3
   },
   "file_extension": ".py",
   "mimetype": "text/x-python",
   "name": "python",
   "nbconvert_exporter": "python",
   "pygments_lexer": "ipython3",
   "version": "3.11.9"
  },
  "toc": {
   "base_numbering": 1,
   "nav_menu": {},
   "number_sections": true,
   "sideBar": true,
   "skip_h1_title": false,
   "title_cell": "Table of Contents",
   "title_sidebar": "Contents",
   "toc_cell": false,
   "toc_position": {
    "height": "calc(100% - 180px)",
    "left": "10px",
    "top": "150px",
    "width": "293.201px"
   },
   "toc_section_display": true,
   "toc_window_display": false
  },
  "varInspector": {
   "cols": {
    "lenName": 16,
    "lenType": 16,
    "lenVar": 40
   },
   "kernels_config": {
    "python": {
     "delete_cmd_postfix": "",
     "delete_cmd_prefix": "del ",
     "library": "var_list.py",
     "varRefreshCmd": "print(var_dic_list())"
    },
    "r": {
     "delete_cmd_postfix": ") ",
     "delete_cmd_prefix": "rm(",
     "library": "var_list.r",
     "varRefreshCmd": "cat(var_dic_list()) "
    }
   },
   "types_to_exclude": [
    "module",
    "function",
    "builtin_function_or_method",
    "instance",
    "_Feature"
   ],
   "window_display": false
  }
 },
 "nbformat": 4,
 "nbformat_minor": 5
}
