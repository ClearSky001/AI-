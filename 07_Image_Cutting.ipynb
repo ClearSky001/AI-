{
 "cells": [
  {
   "cell_type": "markdown",
   "id": "3b107d3a",
   "metadata": {},
   "source": [
    "# 이미지 자르기\n",
    "\n",
    "> crop=img[세로 범위, 가로 범위]"
   ]
  },
  {
   "cell_type": "markdown",
   "id": "626449d5",
   "metadata": {},
   "source": [
    "## 영역을 잘라서 새로운 창에 표시"
   ]
  },
  {
   "cell_type": "code",
   "execution_count": 9,
   "id": "1cb3dc7e",
   "metadata": {},
   "outputs": [],
   "source": [
    "import cv2\n",
    "\n",
    "img=cv2.imread('img.jpg') # 해당 경로의 파일 읽어오기\n",
    "# img.shape=(427,640,3)\n",
    "\n",
    "crop=img[100:200, 300:400] # 세로: 100~200픽셀, 가로: 300~400픽셀까지 자름\n",
    "\n",
    "cv2.imshow('img',img) # 원본 이미지\n",
    "cv2.imshow('crop',crop) # 잘린 이미지\n",
    "\n",
    "cv2.waitKey(0)\n",
    "cv2.destroyAllWindows()"
   ]
  },
  {
   "cell_type": "markdown",
   "id": "248ed82a",
   "metadata": {},
   "source": [
    "## 영역을 잘라서 기존 창에 표시"
   ]
  },
  {
   "cell_type": "code",
   "execution_count": 11,
   "id": "62e97154",
   "metadata": {},
   "outputs": [],
   "source": [
    "import cv2\n",
    "\n",
    "img=cv2.imread('img.jpg') # 해당 경로의 파일 읽어오기\n",
    "# img.shape=(427,640,3)\n",
    "\n",
    "crop=img[100:200, 300:400] # 세로: 100~200픽셀, 가로: 300~400픽셀까지 자름\n",
    "img[100:200,400:500]=crop\n",
    "\n",
    "cv2.imshow('img',img) # 원본 이미지\n",
    "\n",
    "cv2.waitKey(0)\n",
    "cv2.destroyAllWindows()"
   ]
  }
 ],
 "metadata": {
  "kernelspec": {
   "display_name": "Python 3 (ipykernel)",
   "language": "python",
   "name": "python3"
  },
  "language_info": {
   "codemirror_mode": {
    "name": "ipython",
    "version": 3
   },
   "file_extension": ".py",
   "mimetype": "text/x-python",
   "name": "python",
   "nbconvert_exporter": "python",
   "pygments_lexer": "ipython3",
   "version": "3.11.7"
  },
  "toc": {
   "base_numbering": 1,
   "nav_menu": {},
   "number_sections": true,
   "sideBar": true,
   "skip_h1_title": false,
   "title_cell": "Table of Contents",
   "title_sidebar": "Contents",
   "toc_cell": false,
   "toc_position": {
    "height": "calc(100% - 180px)",
    "left": "10px",
    "top": "150px",
    "width": "310.417px"
   },
   "toc_section_display": true,
   "toc_window_display": false
  },
  "varInspector": {
   "cols": {
    "lenName": 16,
    "lenType": 16,
    "lenVar": 40
   },
   "kernels_config": {
    "python": {
     "delete_cmd_postfix": "",
     "delete_cmd_prefix": "del ",
     "library": "var_list.py",
     "varRefreshCmd": "print(var_dic_list())"
    },
    "r": {
     "delete_cmd_postfix": ") ",
     "delete_cmd_prefix": "rm(",
     "library": "var_list.r",
     "varRefreshCmd": "cat(var_dic_list()) "
    }
   },
   "types_to_exclude": [
    "module",
    "function",
    "builtin_function_or_method",
    "instance",
    "_Feature"
   ],
   "window_display": false
  }
 },
 "nbformat": 4,
 "nbformat_minor": 5
}
