{
 "cells": [
  {
   "cell_type": "markdown",
   "id": "49f7cca1",
   "metadata": {},
   "source": [
    "# 이미지 대칭"
   ]
  },
  {
   "cell_type": "markdown",
   "id": "102454bb",
   "metadata": {},
   "source": [
    "## 좌우 대칭\n",
    "\n",
    "cv2.flip(img,1) # 1=flipCode\n",
    "\n",
    "flipCode > 0 : 좌우 대칭(Horizontal)"
   ]
  },
  {
   "cell_type": "code",
   "execution_count": 7,
   "id": "557f42c6",
   "metadata": {},
   "outputs": [],
   "source": [
    "import cv2\n",
    "\n",
    "img=cv2.imread('img.jpg') # 해당 경로의 파일 읽어오기\n",
    "flip_horizontal=cv2.flip(img,1) # flipCode > 0 : 좌우 대칭(Horizontal)\n",
    "\n",
    "cv2.imshow('img',img)\n",
    "cv2.imshow('flip_horizontal',flip_horizontal)\n",
    "\n",
    "cv2.waitKey(0)\n",
    "cv2.destroyAllWindows()"
   ]
  },
  {
   "cell_type": "markdown",
   "id": "2152ad71",
   "metadata": {},
   "source": [
    "## 상하 대칭\n",
    "\n",
    "cv2.flip(img,0) # 0=flipCode\n",
    "\n",
    "flipCode=0 : 상하 대칭(Vertical)"
   ]
  },
  {
   "cell_type": "code",
   "execution_count": 4,
   "id": "552bfce3",
   "metadata": {},
   "outputs": [],
   "source": [
    "import cv2\n",
    "\n",
    "img=cv2.imread('img.jpg') # 해당 경로의 파일 읽어오기\n",
    "flip_vertical=cv2.flip(img,0) # flipCode == 0 : 상하 대칭(Vertical)\n",
    "\n",
    "cv2.imshow('img',img)\n",
    "cv2.imshow('flip_vertical',flip_vertical)\n",
    "\n",
    "cv2.waitKey(0)\n",
    "cv2.destroyAllWindows()"
   ]
  },
  {
   "cell_type": "markdown",
   "id": "ee324d1e",
   "metadata": {},
   "source": [
    "## 상하좌우 대칭\n",
    "\n",
    "cv2.flip(img,-1) # -1=flipCode\n",
    "\n",
    "flipCode < 0 : 상하좌우 대칭(Horizontal & Vertical)"
   ]
  },
  {
   "cell_type": "code",
   "execution_count": 6,
   "id": "0471840e",
   "metadata": {},
   "outputs": [],
   "source": [
    "import cv2\n",
    "\n",
    "img=cv2.imread('img.jpg') # 해당 경로의 파일 읽어오기\n",
    "flip_both=cv2.flip(img,-1) # flipCode < 0 : 상하좌우 대칭(Horizontal & Vertical)\n",
    "\n",
    "cv2.imshow('img',img)\n",
    "cv2.imshow('flip_both',flip_both)\n",
    "\n",
    "cv2.waitKey(0)\n",
    "cv2.destroyAllWindows()"
   ]
  }
 ],
 "metadata": {
  "kernelspec": {
   "display_name": "Python 3 (ipykernel)",
   "language": "python",
   "name": "python3"
  },
  "language_info": {
   "codemirror_mode": {
    "name": "ipython",
    "version": 3
   },
   "file_extension": ".py",
   "mimetype": "text/x-python",
   "name": "python",
   "nbconvert_exporter": "python",
   "pygments_lexer": "ipython3",
   "version": "3.11.7"
  },
  "toc": {
   "base_numbering": 1,
   "nav_menu": {},
   "number_sections": true,
   "sideBar": true,
   "skip_h1_title": false,
   "title_cell": "Table of Contents",
   "title_sidebar": "Contents",
   "toc_cell": false,
   "toc_position": {},
   "toc_section_display": true,
   "toc_window_display": false
  },
  "varInspector": {
   "cols": {
    "lenName": 16,
    "lenType": 16,
    "lenVar": 40
   },
   "kernels_config": {
    "python": {
     "delete_cmd_postfix": "",
     "delete_cmd_prefix": "del ",
     "library": "var_list.py",
     "varRefreshCmd": "print(var_dic_list())"
    },
    "r": {
     "delete_cmd_postfix": ") ",
     "delete_cmd_prefix": "rm(",
     "library": "var_list.r",
     "varRefreshCmd": "cat(var_dic_list()) "
    }
   },
   "types_to_exclude": [
    "module",
    "function",
    "builtin_function_or_method",
    "instance",
    "_Feature"
   ],
   "window_display": false
  }
 },
 "nbformat": 4,
 "nbformat_minor": 5
}
