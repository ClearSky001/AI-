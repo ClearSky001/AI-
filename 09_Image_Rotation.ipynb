{
 "cells": [
  {
   "cell_type": "markdown",
   "id": "1a0e1ae7",
   "metadata": {},
   "source": [
    "# 이미지 회전"
   ]
  },
  {
   "cell_type": "markdown",
   "id": "e501263a",
   "metadata": {},
   "source": [
    "## 시계방향 90도 회전\n",
    "\n",
    "cv2.rotate(이미지 변수명,cv2.ROTATE_90_CLOCKWISE)"
   ]
  },
  {
   "cell_type": "code",
   "execution_count": 2,
   "id": "cc729d21",
   "metadata": {},
   "outputs": [],
   "source": [
    "import cv2\n",
    "\n",
    "img=cv2.imread('img.jpg')\n",
    "\n",
    "rotate_90=cv2.rotate(img,cv2.ROTATE_90_CLOCKWISE) # 시계 방향으로 90도 회전\n",
    "cv2.imshow('img',img)\n",
    "cv2.imshow('rotate',rotate_90)\n",
    "\n",
    "cv2.waitKey(0) # 지정된 시간동안 사용자 키 입력 대기 // waitKey()에 숫자를 입력하면 그 시간(단위는 밀리초) 동안 창이 열려 있다가 자동으로 닫힘\n",
    "cv2.destroyAllWindows() # 모든 창 닫기"
   ]
  },
  {
   "cell_type": "markdown",
   "id": "288a42d3",
   "metadata": {},
   "source": [
    "## 180도 회전\n",
    "\n",
    "cv2.rotate(이미지 변수명,cv2.ROTATE_180)"
   ]
  },
  {
   "cell_type": "code",
   "execution_count": 3,
   "id": "1abf8341",
   "metadata": {},
   "outputs": [],
   "source": [
    "import cv2\n",
    "\n",
    "img=cv2.imread('img.jpg')\n",
    "\n",
    "rotate_180=cv2.rotate(img,cv2.ROTATE_180) # 180도 회전\n",
    "cv2.imshow('img',img)\n",
    "cv2.imshow('rotate',rotate_180)\n",
    "\n",
    "cv2.waitKey(0) # 지정된 시간동안 사용자 키 입력 대기 // waitKey()에 숫자를 입력하면 그 시간(단위는 밀리초) 동안 창이 열려 있다가 자동으로 닫힘\n",
    "cv2.destroyAllWindows() # 모든 창 닫기"
   ]
  },
  {
   "cell_type": "markdown",
   "id": "3f8a432f",
   "metadata": {},
   "source": [
    "## 반시계 방향 90도 회전\n",
    "\n",
    "cv2.rotate(이미지 변수명,cv2.ROTATE_90_COUNTERCLOCKWISE)"
   ]
  },
  {
   "cell_type": "code",
   "execution_count": 7,
   "id": "7a9ef7d4",
   "metadata": {},
   "outputs": [],
   "source": [
    "import cv2\n",
    "\n",
    "img=cv2.imread('img.jpg')\n",
    "\n",
    "rotate_270=cv2.rotate(img,cv2.ROTATE_90_COUNTERCLOCKWISE) # 반시계 방향으로 90도 회전\n",
    "cv2.imshow('img',img)\n",
    "cv2.imshow('rotate',rotate_270)\n",
    "\n",
    "cv2.waitKey(0) # 지정된 시간동안 사용자 키 입력 대기 // waitKey()에 숫자를 입력하면 그 시간(단위는 밀리초) 동안 창이 열려 있다가 자동으로 닫힘\n",
    "cv2.destroyAllWindows() # 모든 창 닫기"
   ]
  }
 ],
 "metadata": {
  "kernelspec": {
   "display_name": "Python 3 (ipykernel)",
   "language": "python",
   "name": "python3"
  },
  "language_info": {
   "codemirror_mode": {
    "name": "ipython",
    "version": 3
   },
   "file_extension": ".py",
   "mimetype": "text/x-python",
   "name": "python",
   "nbconvert_exporter": "python",
   "pygments_lexer": "ipython3",
   "version": "3.11.9"
  },
  "toc": {
   "base_numbering": 1,
   "nav_menu": {},
   "number_sections": true,
   "sideBar": true,
   "skip_h1_title": false,
   "title_cell": "Table of Contents",
   "title_sidebar": "Contents",
   "toc_cell": false,
   "toc_position": {
    "height": "calc(100% - 180px)",
    "left": "10px",
    "top": "150px",
    "width": "310.417px"
   },
   "toc_section_display": true,
   "toc_window_display": false
  },
  "varInspector": {
   "cols": {
    "lenName": 16,
    "lenType": 16,
    "lenVar": 40
   },
   "kernels_config": {
    "python": {
     "delete_cmd_postfix": "",
     "delete_cmd_prefix": "del ",
     "library": "var_list.py",
     "varRefreshCmd": "print(var_dic_list())"
    },
    "r": {
     "delete_cmd_postfix": ") ",
     "delete_cmd_prefix": "rm(",
     "library": "var_list.r",
     "varRefreshCmd": "cat(var_dic_list()) "
    }
   },
   "types_to_exclude": [
    "module",
    "function",
    "builtin_function_or_method",
    "instance",
    "_Feature"
   ],
   "window_display": false
  }
 },
 "nbformat": 4,
 "nbformat_minor": 5
}
