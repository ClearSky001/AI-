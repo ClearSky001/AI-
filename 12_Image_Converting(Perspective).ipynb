{
 "cells": [
  {
   "cell_type": "markdown",
   "id": "d3ae101c",
   "metadata": {},
   "source": [
    "# 이미지 변형(원근)\n",
    "\n",
    "1. 변환하고자 하는 사진의 각 픽셀값을 불러옴\n",
    "img_points=np.array([[511,352],[1008,345],[1122,584],[455,594]],dtype=np.float32)\n",
    "\n",
    "2. 변환할 사진의 가로 크기, 세로 크기를 지정 & 4개 지점 정의\n",
    "img_output=np.array([[0,0],[width,0],[width,height],[0,height]],dtype=np.float32)\n",
    "\n",
    "3. 1, 2번을 바탕으로 원본 이미지의 행렬값을 얻어옴\n",
    "matrix=cv2.getPerspectiveTransform(img_points,img_output)\n",
    "\n",
    "4. 행렬값 변환\n",
    "result=cv2.warpPerspective(img,matrix,(width,height))\n",
    "\n",
    "5. 변환한 사진 표시\n",
    "cv2.imshow('result',result)"
   ]
  },
  {
   "cell_type": "markdown",
   "id": "7639ccec",
   "metadata": {},
   "source": [
    "## 뉘어진 이미지 펼치기"
   ]
  },
  {
   "cell_type": "code",
   "execution_count": 7,
   "id": "46b9c3d9",
   "metadata": {},
   "outputs": [],
   "source": [
    "import cv2\n",
    "import numpy as np\n",
    "\n",
    "img=cv2.imread('newspaper.jpg')\n",
    "\n",
    "width,height=640,240 # 가로 크기 640, 서로 크기 240으로 결과물 출력\n",
    "\n",
    "img_points=np.array([[511,352],[1008,345],[1122,584],[455,594]],dtype=np.float32) # input 4개 지점\n",
    "img_output=np.array([[0,0],[width,0],[width,height],[0,height]],dtype=np.float32) # output 4개 지점\n",
    "\n",
    "matrix=cv2.getPerspectiveTransform(img_points,img_output) # Matrix 얻어옴\n",
    "result=cv2.warpPerspective(img,matrix,(width,height)) # Matrix대로 변환함\n",
    "\n",
    "cv2.imshow('img',img)\n",
    "cv2.imshow('result',result)\n",
    "\n",
    "cv2.waitKey(0)\n",
    "cv2.destroyAllWindows()"
   ]
  },
  {
   "cell_type": "markdown",
   "id": "5aa58b07",
   "metadata": {},
   "source": [
    "## 회전된 이미지 올바로 세우기\n",
    "\n",
    "'뉘어진 이미지 펼치기'와 동일하게 진행됨."
   ]
  },
  {
   "cell_type": "code",
   "execution_count": 8,
   "id": "4aec8061",
   "metadata": {},
   "outputs": [],
   "source": [
    "import cv2\n",
    "import numpy as np\n",
    "\n",
    "img=cv2.imread('poker.jpg')\n",
    "\n",
    "width,height=530,710 # 가로 크기 640, 서로 크기 240으로 결과물 출력\n",
    "\n",
    "img_points=np.array([[702,143],[1133,414],[726,1007],[276,700]],dtype=np.float32) # input 4개 지점\n",
    "img_output=np.array([[0,0],[width,0],[width,height],[0,height]],dtype=np.float32) # output 4개 지점\n",
    "\n",
    "matrix=cv2.getPerspectiveTransform(img_points,img_output) # Matrix 얻어옴\n",
    "result=cv2.warpPerspective(img,matrix,(width,height)) # Matrix대로 변환함\n",
    "\n",
    "cv2.imshow('img',img)\n",
    "cv2.imshow('result',result)\n",
    "\n",
    "cv2.waitKey(0)\n",
    "cv2.destroyAllWindows()"
   ]
  }
 ],
 "metadata": {
  "kernelspec": {
   "display_name": "Python 3 (ipykernel)",
   "language": "python",
   "name": "python3"
  },
  "language_info": {
   "codemirror_mode": {
    "name": "ipython",
    "version": 3
   },
   "file_extension": ".py",
   "mimetype": "text/x-python",
   "name": "python",
   "nbconvert_exporter": "python",
   "pygments_lexer": "ipython3",
   "version": "3.11.7"
  },
  "toc": {
   "base_numbering": 1,
   "nav_menu": {},
   "number_sections": true,
   "sideBar": true,
   "skip_h1_title": false,
   "title_cell": "Table of Contents",
   "title_sidebar": "Contents",
   "toc_cell": false,
   "toc_position": {
    "height": "calc(100% - 180px)",
    "left": "10px",
    "top": "150px",
    "width": "310.417px"
   },
   "toc_section_display": true,
   "toc_window_display": false
  },
  "varInspector": {
   "cols": {
    "lenName": 16,
    "lenType": 16,
    "lenVar": 40
   },
   "kernels_config": {
    "python": {
     "delete_cmd_postfix": "",
     "delete_cmd_prefix": "del ",
     "library": "var_list.py",
     "varRefreshCmd": "print(var_dic_list())"
    },
    "r": {
     "delete_cmd_postfix": ") ",
     "delete_cmd_prefix": "rm(",
     "library": "var_list.r",
     "varRefreshCmd": "cat(var_dic_list()) "
    }
   },
   "types_to_exclude": [
    "module",
    "function",
    "builtin_function_or_method",
    "instance",
    "_Feature"
   ],
   "window_display": false
  }
 },
 "nbformat": 4,
 "nbformat_minor": 5
}
