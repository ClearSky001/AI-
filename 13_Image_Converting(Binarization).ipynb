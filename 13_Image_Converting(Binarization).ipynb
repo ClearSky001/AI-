{
 "cells": [
  {
   "cell_type": "markdown",
   "id": "e53bc10b",
   "metadata": {},
   "source": [
    "# 이미지 변형(이진화)"
   ]
  },
  {
   "cell_type": "markdown",
   "id": "cf4be117",
   "metadata": {},
   "source": [
    "## 수동으로 표시\n",
    "\n",
    "ret : 반환된 첫 번째 값. ret는 사용된 임계값. 아래에서는 127.\n",
    "\n",
    "binary : 이진화된 이미지. 이 이미지는 입력 이미지의 각 픽셀을 임계값(127)과 비교하여, 큰 픽셀은 255로, 작은 픽셀은 0으로 설정한 결과."
   ]
  },
  {
   "cell_type": "code",
   "execution_count": 13,
   "id": "74fce242",
   "metadata": {},
   "outputs": [],
   "source": [
    "import cv2\n",
    "\n",
    "img=cv2.imread('book.jpg',cv2.IMREAD_GRAYSCALE)\n",
    "\n",
    "ret,binary=cv2.threshold(img,127,255,cv2.THRESH_BINARY) # 127 보다 크면 흰색, 127보다 작으면 검정으로 표시\n",
    "\n",
    "cv2.imshow('img',img)\n",
    "cv2.imshow('binary',binary)\n",
    "\n",
    "cv2.waitKey(0)\n",
    "cv2.destroyAllWindows()"
   ]
  },
  {
   "cell_type": "markdown",
   "id": "b2c3167a",
   "metadata": {},
   "source": [
    "## Trackbar(값 변화에 따른 변화 확인)\n",
    "\n",
    "cv2.createTrackbar('Trackbar 이름',Trackbar가 들어갈 윈도우 이름,초깃값,최댓값,이벤트 처리)\n",
    "\n",
    "* 아래 코드를 실행하지 않아도 작동하나, 창을 닫으면 에러 발생함\n",
    "\n",
    "> cv2.getWindowProperty('Trackbar', cv2.WND_PROP_VISIBLE) < 1 코드를 이용하여 윈도우가 닫혔는지 확인\n",
    "\n",
    "cv2.getWindowProperty==1 : 창이 열려 있음을 의미\n",
    "\n",
    "cv2.getWindowProperty < 1 : 창이 닫혔음을 의미"
   ]
  },
  {
   "cell_type": "code",
   "execution_count": 10,
   "id": "c014698c",
   "metadata": {
    "scrolled": true
   },
   "outputs": [],
   "source": [
    "import cv2\n",
    "\n",
    "def empty(pos): # pos의 의미 : Trackbar의 값을 받아오는 것\n",
    "    #print(pos)\n",
    "    pass\n",
    "\n",
    "img=cv2.imread('book.jpg',cv2.IMREAD_GRAYSCALE)\n",
    "\n",
    "# 트랙바를 만들기 위해 윈도우를 만들어야 함. Trackbar 라는 이름의 윈도우 생성.\n",
    "cv2.namedWindow('Trackbar')\n",
    "\n",
    "# cv2.createTrackbar 함수를 사용하여 Trackbar 윈도우에 'threshold'라는 이름의 트랙바를 생성. 초기 값은 127이고, 최댓값은 255로 설정.\n",
    "cv2.createTrackbar('threshold','Trackbar',127,255,empty)\n",
    "\n",
    "while True:\n",
    "    # 윈도우가 존재하는지 확인\n",
    "    if cv2.getWindowProperty('Trackbar', cv2.WND_PROP_VISIBLE) < 1:\n",
    "        break\n",
    "    \n",
    "    # 트랙바의 현재 값 가져오기\n",
    "    thresh=cv2.getTrackbarPos('threshold','Trackbar') # 트랙바의 현재 값을 가져옴.\n",
    "    \n",
    "    # 이미지 이진화\n",
    "    ret,binary=cv2.threshold(img,thresh,255,cv2.THRESH_BINARY) # 여기서 ret는 thresh 값이 됨.\n",
    "    \n",
    "    if not ret:\n",
    "        break\n",
    "    \n",
    "    # 이진화된 이미지 출력\n",
    "    cv2.imshow('Trackbar',binary)\n",
    "    \n",
    "    if cv2.waitKey(1) == ord('q'):\n",
    "        break\n",
    "        \n",
    "cv2.destroyAllWindows()"
   ]
  },
  {
   "cell_type": "markdown",
   "id": "502b5e72",
   "metadata": {},
   "source": [
    "## 그림판에서 제작한 이미지로 확인"
   ]
  },
  {
   "cell_type": "code",
   "execution_count": 11,
   "id": "74d6c0a4",
   "metadata": {},
   "outputs": [],
   "source": [
    "import cv2\n",
    "\n",
    "def empty(pos): # pos의 의미 : Trackbar의 값을 받아오는 것\n",
    "    #print(pos)\n",
    "    pass\n",
    "\n",
    "img=cv2.imread('threshold.png',cv2.IMREAD_GRAYSCALE)\n",
    "\n",
    "# 트랙바를 만들기 위해 윈도우를 만들어야 함. Trackbar 라는 이름의 윈도우 생성.\n",
    "cv2.namedWindow('Trackbar')\n",
    "\n",
    "# cv2.createTrackbar 함수를 사용하여 Trackbar 윈도우에 'threshold'라는 이름의 트랙바를 생성. 초기 값은 127이고, 최댓값은 255로 설정.\n",
    "cv2.createTrackbar('threshold','Trackbar',127,255,empty)\n",
    "\n",
    "while True:\n",
    "    # 윈도우가 존재하는지 확인\n",
    "    if cv2.getWindowProperty('Trackbar', cv2.WND_PROP_VISIBLE) < 1:\n",
    "        break\n",
    "    \n",
    "    # 트랙바의 현재 값 가져오기\n",
    "    thresh=cv2.getTrackbarPos('threshold','Trackbar') # 트랙바의 현재 값을 가져옴.\n",
    "    \n",
    "    # 이미지 이진화\n",
    "    ret,binary=cv2.threshold(img,thresh,255,cv2.THRESH_BINARY)\n",
    "    \n",
    "    if not ret:\n",
    "        break\n",
    "    \n",
    "    # 이진화된 이미지 출력\n",
    "    cv2.imshow('Trackbar',binary)\n",
    "    cv2.imshow('img',img)\n",
    "    \n",
    "    if cv2.waitKey(1) == ord('q'):\n",
    "        break\n",
    "        \n",
    "cv2.destroyAllWindows()"
   ]
  },
  {
   "cell_type": "code",
   "execution_count": 29,
   "id": "125a3d90",
   "metadata": {
    "scrolled": true
   },
   "outputs": [
    {
     "name": "stdout",
     "output_type": "stream",
     "text": [
      "ret1: 0.0\n",
      "ret2: 127.0\n",
      "ret3: 195.0\n"
     ]
    }
   ],
   "source": [
    "import cv2\n",
    "\n",
    "img=cv2.imread('threshold.png',cv2.IMREAD_GRAYSCALE)\n",
    "\n",
    "ret1,binary1=cv2.threshold(img,0,255,cv2.THRESH_BINARY) # 0 보다 크면 흰색, 0보다 작으면 검정으로 표시\n",
    "ret2,binary2=cv2.threshold(img,127,255,cv2.THRESH_BINARY)\n",
    "ret3,binary3=cv2.threshold(img,195,255,cv2.THRESH_BINARY)\n",
    "print('ret1:',ret1)\n",
    "print('ret2:',ret2)\n",
    "print('ret3:',ret3)\n",
    "\n",
    "cv2.imshow('img',img)\n",
    "cv2.imshow('binary1',binary1) # 진한 회색, 밝은 회색, 흰색에 대해 흰색 처리\n",
    "cv2.imshow('binary2',binary2) # 밝은 회색, 흰색에 대해 흰색 처리\n",
    "cv2.imshow('binary3',binary3) # 흰색에 대해 흰색 처리\n",
    "\n",
    "cv2.waitKey(0)\n",
    "cv2.destroyAllWindows()"
   ]
  },
  {
   "cell_type": "markdown",
   "id": "997d3466",
   "metadata": {},
   "source": [
    "## Adaptive Threshold\n",
    "이미지를 작은 영역으로 나누어서 임계치 적용"
   ]
  },
  {
   "cell_type": "code",
   "execution_count": 15,
   "id": "426ff179",
   "metadata": {},
   "outputs": [],
   "source": [
    "import cv2\n",
    "\n",
    "def empty(pos): # pos의 의미 : Trackbar의 값을 받아오는 것\n",
    "    #print(pos)\n",
    "    pass\n",
    "\n",
    "img=cv2.imread('book.jpg',cv2.IMREAD_GRAYSCALE)\n",
    "\n",
    "# 트랙바를 만들기 위해 윈도우를 만들어야 함. Trackbar 라는 이름의 윈도우 생성.\n",
    "cv2.namedWindow('Trackbar')\n",
    "\n",
    "\n",
    "cv2.createTrackbar('block_size','Trackbar',25,100,empty) # bleck_size : 홀수만 가능, 1보다 큰 값\n",
    "cv2.createTrackbar('c','Trackbar',3,10,empty) # 일반적으로 양수값 사용\n",
    "\n",
    "while True:\n",
    "    # 윈도우가 존재하는지 확인\n",
    "    if cv2.getWindowProperty('Trackbar', cv2.WND_PROP_VISIBLE) < 1:\n",
    "        break\n",
    "    \n",
    "    # 트랙바의 현재 값 가져오기\n",
    "    block_size=cv2.getTrackbarPos('block_size','Trackbar') # 트랙바의 현재 값을 가져옴.\n",
    "    c=cv2.getTrackbarPos('c','Trackbar')\n",
    "    \n",
    "    if block_size<=1:\n",
    "        block_size=3\n",
    "    \n",
    "    if block_size%2==0:\n",
    "        block_size+=1\n",
    "    \n",
    "    # 이미지 이진화\n",
    "    binary=cv2.adaptiveThreshold(img,255,cv2.ADAPTIVE_THRESH_MEAN_C,cv2.THRESH_BINARY,block_size,c)\n",
    "    \n",
    "    # 이진화된 이미지 출력\n",
    "    cv2.imshow('Trackbar',binary)\n",
    "    \n",
    "    if cv2.waitKey(1) == ord('q'):\n",
    "        break\n",
    "        \n",
    "cv2.destroyAllWindows()"
   ]
  },
  {
   "cell_type": "markdown",
   "id": "e4c8ee31",
   "metadata": {},
   "source": [
    "## 오츠 알고리즘\n",
    "Bimodal Image에 사용하기 적합\n",
    "\n",
    "오츠 알고리즘을 적용할 때 ret 값은 자동으로 지정됨."
   ]
  },
  {
   "cell_type": "code",
   "execution_count": 25,
   "id": "993dde9d",
   "metadata": {},
   "outputs": [
    {
     "name": "stdout",
     "output_type": "stream",
     "text": [
      "ret_otsu_threshold: 134.0\n",
      "ret: 127.0\n"
     ]
    }
   ],
   "source": [
    "import cv2\n",
    "\n",
    "img=cv2.imread('book.jpg',cv2.IMREAD_GRAYSCALE)\n",
    "\n",
    "ret,binary=cv2.threshold(img,127,255,cv2.THRESH_BINARY) # 127 보다 크면 흰색, 127보다 작으면 검정으로 표시\n",
    "ret_otsu,otsu=cv2.threshold(img,-1,255,cv2.THRESH_BINARY|cv2.THRESH_OTSU)\n",
    "print('ret_otsu_threshold:',ret_otsu)\n",
    "print('ret:',ret)\n",
    "\n",
    "cv2.imshow('img',img)\n",
    "cv2.imshow('binary',binary)\n",
    "cv2.imshow('otsu',otsu)\n",
    "\n",
    "cv2.waitKey(0)\n",
    "cv2.destroyAllWindows()"
   ]
  }
 ],
 "metadata": {
  "kernelspec": {
   "display_name": "Python 3 (ipykernel)",
   "language": "python",
   "name": "python3"
  },
  "language_info": {
   "codemirror_mode": {
    "name": "ipython",
    "version": 3
   },
   "file_extension": ".py",
   "mimetype": "text/x-python",
   "name": "python",
   "nbconvert_exporter": "python",
   "pygments_lexer": "ipython3",
   "version": "3.11.9"
  },
  "toc": {
   "base_numbering": 1,
   "nav_menu": {},
   "number_sections": true,
   "sideBar": true,
   "skip_h1_title": false,
   "title_cell": "Table of Contents",
   "title_sidebar": "Contents",
   "toc_cell": false,
   "toc_position": {
    "height": "calc(100% - 180px)",
    "left": "10px",
    "top": "150px",
    "width": "310.417px"
   },
   "toc_section_display": true,
   "toc_window_display": false
  },
  "varInspector": {
   "cols": {
    "lenName": 16,
    "lenType": 16,
    "lenVar": 40
   },
   "kernels_config": {
    "python": {
     "delete_cmd_postfix": "",
     "delete_cmd_prefix": "del ",
     "library": "var_list.py",
     "varRefreshCmd": "print(var_dic_list())"
    },
    "r": {
     "delete_cmd_postfix": ") ",
     "delete_cmd_prefix": "rm(",
     "library": "var_list.r",
     "varRefreshCmd": "cat(var_dic_list()) "
    }
   },
   "types_to_exclude": [
    "module",
    "function",
    "builtin_function_or_method",
    "instance",
    "_Feature"
   ],
   "window_display": false
  }
 },
 "nbformat": 4,
 "nbformat_minor": 5
}
