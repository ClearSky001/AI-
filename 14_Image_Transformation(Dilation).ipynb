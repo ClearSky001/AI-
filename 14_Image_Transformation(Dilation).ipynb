{
 "cells": [
  {
   "cell_type": "markdown",
   "id": "4a402456",
   "metadata": {},
   "source": [
    "# 이미지 변환(팽창)"
   ]
  },
  {
   "cell_type": "markdown",
   "id": "a98795d2",
   "metadata": {},
   "source": [
    "## 이미지를 확장하여 작은 구멍을 채움\n",
    "흰색 영역의 외곽 픽셀 주변에 흰색을 추가\n",
    "\n",
    "cv2.dilate(이미지 변수명,kernel,iterations=n)\n",
    "\n",
    "n=팽창 연산 반복 횟수"
   ]
  },
  {
   "cell_type": "code",
   "execution_count": 9,
   "id": "a14395d5",
   "metadata": {},
   "outputs": [],
   "source": [
    "import cv2\n",
    "import numpy as np\n",
    "\n",
    "kernel=np.ones((3,3),dtype=np.uint8)\n",
    "kernel\n",
    "\n",
    "img=cv2.imread('dilate.png',cv2.IMREAD_GRAYSCALE)\n",
    "\n",
    "dilate1=cv2.dilate(img,kernel,iterations=1) # iterations의 의미 : 반복 횟수\n",
    "dilate2=cv2.dilate(img,kernel,iterations=2)\n",
    "dilate3=cv2.dilate(img,kernel,iterations=3)\n",
    "\n",
    "cv2.imshow('gray',img)\n",
    "cv2.imshow('dilate1',dilate1)\n",
    "cv2.imshow('dilate2',dilate2)\n",
    "cv2.imshow('dilate3',dilate3)\n",
    "\n",
    "cv2.waitKey(0)\n",
    "cv2.destroyAllWindows()"
   ]
  }
 ],
 "metadata": {
  "kernelspec": {
   "display_name": "Python 3 (ipykernel)",
   "language": "python",
   "name": "python3"
  },
  "language_info": {
   "codemirror_mode": {
    "name": "ipython",
    "version": 3
   },
   "file_extension": ".py",
   "mimetype": "text/x-python",
   "name": "python",
   "nbconvert_exporter": "python",
   "pygments_lexer": "ipython3",
   "version": "3.11.9"
  },
  "toc": {
   "base_numbering": 1,
   "nav_menu": {},
   "number_sections": true,
   "sideBar": true,
   "skip_h1_title": false,
   "title_cell": "Table of Contents",
   "title_sidebar": "Contents",
   "toc_cell": false,
   "toc_position": {
    "height": "calc(100% - 180px)",
    "left": "10px",
    "top": "150px",
    "width": "310.417px"
   },
   "toc_section_display": true,
   "toc_window_display": false
  },
  "varInspector": {
   "cols": {
    "lenName": 16,
    "lenType": 16,
    "lenVar": 40
   },
   "kernels_config": {
    "python": {
     "delete_cmd_postfix": "",
     "delete_cmd_prefix": "del ",
     "library": "var_list.py",
     "varRefreshCmd": "print(var_dic_list())"
    },
    "r": {
     "delete_cmd_postfix": ") ",
     "delete_cmd_prefix": "rm(",
     "library": "var_list.r",
     "varRefreshCmd": "cat(var_dic_list()) "
    }
   },
   "types_to_exclude": [
    "module",
    "function",
    "builtin_function_or_method",
    "instance",
    "_Feature"
   ],
   "window_display": false
  }
 },
 "nbformat": 4,
 "nbformat_minor": 5
}
