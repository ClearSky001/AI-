{
 "cells": [
  {
   "cell_type": "markdown",
   "id": "15d008ea",
   "metadata": {},
   "source": [
    "# 이미지 변환(침식)"
   ]
  },
  {
   "cell_type": "markdown",
   "id": "057e2c07",
   "metadata": {},
   "source": [
    "## 이미지를 깎아서 노이즈 제거\n",
    "흰색 영역의 외곽 픽셀을 검은색으로 변경\n",
    "\n",
    "cv2.erode(이미지 변수명,kernel,iterations=n)\n",
    "\n",
    "n=침식 연산 반복 횟수"
   ]
  },
  {
   "cell_type": "code",
   "execution_count": 2,
   "id": "1e830345",
   "metadata": {},
   "outputs": [],
   "source": [
    "import cv2\n",
    "import numpy as np\n",
    "\n",
    "kernel=np.ones((3,3),dtype=np.uint8)\n",
    "\n",
    "img=cv2.imread('erode.png',cv2.IMREAD_GRAYSCALE)\n",
    "\n",
    "erode1=cv2.erode(img,kernel,iterations=1)\n",
    "erode2=cv2.erode(img,kernel,iterations=2)\n",
    "erode3=cv2.erode(img,kernel,iterations=3)\n",
    "\n",
    "cv2.imshow('gray',img)\n",
    "cv2.imshow('erode1',erode1)\n",
    "cv2.imshow('erode2',erode2)\n",
    "cv2.imshow('erode3',erode3)\n",
    "\n",
    "cv2.waitKey(0)\n",
    "cv2.destroyAllWindows()"
   ]
  }
 ],
 "metadata": {
  "kernelspec": {
   "display_name": "Python 3 (ipykernel)",
   "language": "python",
   "name": "python3"
  },
  "language_info": {
   "codemirror_mode": {
    "name": "ipython",
    "version": 3
   },
   "file_extension": ".py",
   "mimetype": "text/x-python",
   "name": "python",
   "nbconvert_exporter": "python",
   "pygments_lexer": "ipython3",
   "version": "3.11.9"
  },
  "toc": {
   "base_numbering": 1,
   "nav_menu": {},
   "number_sections": true,
   "sideBar": true,
   "skip_h1_title": false,
   "title_cell": "Table of Contents",
   "title_sidebar": "Contents",
   "toc_cell": false,
   "toc_position": {},
   "toc_section_display": true,
   "toc_window_display": false
  },
  "varInspector": {
   "cols": {
    "lenName": 16,
    "lenType": 16,
    "lenVar": 40
   },
   "kernels_config": {
    "python": {
     "delete_cmd_postfix": "",
     "delete_cmd_prefix": "del ",
     "library": "var_list.py",
     "varRefreshCmd": "print(var_dic_list())"
    },
    "r": {
     "delete_cmd_postfix": ") ",
     "delete_cmd_prefix": "rm(",
     "library": "var_list.r",
     "varRefreshCmd": "cat(var_dic_list()) "
    }
   },
   "types_to_exclude": [
    "module",
    "function",
    "builtin_function_or_method",
    "instance",
    "_Feature"
   ],
   "window_display": false
  }
 },
 "nbformat": 4,
 "nbformat_minor": 5
}
