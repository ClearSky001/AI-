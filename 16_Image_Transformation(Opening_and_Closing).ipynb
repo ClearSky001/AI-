{
 "cells": [
  {
   "cell_type": "markdown",
   "id": "ee7b1d97",
   "metadata": {},
   "source": [
    "# 이미지 변환(열림 & 닫힘)\n",
    "팽창(Dilation), 침식(Erosion) 연산을 함께 적용하는 것"
   ]
  },
  {
   "cell_type": "markdown",
   "id": "2905e9cc",
   "metadata": {},
   "source": [
    "## 열림(Opening) : 침식 후 팽창"
   ]
  },
  {
   "cell_type": "code",
   "execution_count": 3,
   "id": "cf1bffc5",
   "metadata": {},
   "outputs": [],
   "source": [
    "import cv2\n",
    "import numpy as np\n",
    "\n",
    "kernel=np.ones((3,3),dtype=np.uint8)\n",
    "\n",
    "img=cv2.imread('erode.png',cv2.IMREAD_GRAYSCALE)\n",
    "\n",
    "erode=cv2.erode(img,kernel,iterations=3)\n",
    "dilate=cv2.dilate(erode,kernel,iterations=3) # 첫번째 변수를 erode로 받음\n",
    "\n",
    "cv2.imshow('img',img)\n",
    "cv2.imshow('erode',erode)\n",
    "cv2.imshow('dilate',dilate)\n",
    "\n",
    "cv2.waitKey(0)\n",
    "cv2.destroyAllWindows()"
   ]
  },
  {
   "cell_type": "markdown",
   "id": "178fd681",
   "metadata": {},
   "source": [
    "## 닫힘(Closing) : 팽창 후 침식"
   ]
  },
  {
   "cell_type": "code",
   "execution_count": 5,
   "id": "8c9a4213",
   "metadata": {},
   "outputs": [],
   "source": [
    "import cv2\n",
    "import numpy as np\n",
    "\n",
    "kernel=np.ones((3,3),dtype=np.uint8)\n",
    "\n",
    "img=cv2.imread('dilate.png',cv2.IMREAD_GRAYSCALE)\n",
    "\n",
    "dilate=cv2.dilate(img,kernel,iterations=3)\n",
    "erode=cv2.erode(dilate,kernel,iterations=3) # 첫번째 변수를 dilate로 받음\n",
    "\n",
    "cv2.imshow('img',img)\n",
    "cv2.imshow('dilate',dilate)\n",
    "cv2.imshow('erode',erode)\n",
    "\n",
    "cv2.waitKey(0)\n",
    "cv2.destroyAllWindows()"
   ]
  }
 ],
 "metadata": {
  "kernelspec": {
   "display_name": "Python 3 (ipykernel)",
   "language": "python",
   "name": "python3"
  },
  "language_info": {
   "codemirror_mode": {
    "name": "ipython",
    "version": 3
   },
   "file_extension": ".py",
   "mimetype": "text/x-python",
   "name": "python",
   "nbconvert_exporter": "python",
   "pygments_lexer": "ipython3",
   "version": "3.11.9"
  },
  "toc": {
   "base_numbering": 1,
   "nav_menu": {},
   "number_sections": true,
   "sideBar": true,
   "skip_h1_title": false,
   "title_cell": "Table of Contents",
   "title_sidebar": "Contents",
   "toc_cell": false,
   "toc_position": {},
   "toc_section_display": true,
   "toc_window_display": false
  },
  "varInspector": {
   "cols": {
    "lenName": 16,
    "lenType": 16,
    "lenVar": 40
   },
   "kernels_config": {
    "python": {
     "delete_cmd_postfix": "",
     "delete_cmd_prefix": "del ",
     "library": "var_list.py",
     "varRefreshCmd": "print(var_dic_list())"
    },
    "r": {
     "delete_cmd_postfix": ") ",
     "delete_cmd_prefix": "rm(",
     "library": "var_list.r",
     "varRefreshCmd": "cat(var_dic_list()) "
    }
   },
   "types_to_exclude": [
    "module",
    "function",
    "builtin_function_or_method",
    "instance",
    "_Feature"
   ],
   "window_display": false
  }
 },
 "nbformat": 4,
 "nbformat_minor": 5
}
