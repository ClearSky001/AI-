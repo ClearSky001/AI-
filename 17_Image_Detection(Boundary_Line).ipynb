{
 "cells": [
  {
   "cell_type": "markdown",
   "id": "90b6b524",
   "metadata": {},
   "source": [
    "# 이미지 검출(경계선)"
   ]
  },
  {
   "cell_type": "markdown",
   "id": "06cabe46",
   "metadata": {},
   "source": [
    "## Canny Edge Detection\n",
    "> cv2.Canny(이미지 변수명,minVal,maxVal)"
   ]
  },
  {
   "cell_type": "code",
   "execution_count": 2,
   "id": "c88dd1c3",
   "metadata": {},
   "outputs": [],
   "source": [
    "import cv2\n",
    "\n",
    "img=cv2.imread('snowman.png')\n",
    "\n",
    "canny=cv2.Canny(img,150,200)\n",
    "\n",
    "cv2.imshow('img',img)\n",
    "cv2.imshow('canny',canny)\n",
    "\n",
    "cv2.waitKey(0)\n",
    "cv2.destroyAllWindows()"
   ]
  },
  {
   "cell_type": "markdown",
   "id": "7bfcffbd",
   "metadata": {},
   "source": [
    "### Trackbar 추가"
   ]
  },
  {
   "cell_type": "code",
   "execution_count": 7,
   "id": "d2fc566f",
   "metadata": {},
   "outputs": [],
   "source": [
    "import cv2\n",
    "\n",
    "def empty(pos):\n",
    "    pass\n",
    "\n",
    "img=cv2.imread('snowman.png')\n",
    "\n",
    "cv2.namedWindow('Trackbar')\n",
    "\n",
    "cv2.createTrackbar('minVal','Trackbar',0,255,empty) # minVal\n",
    "cv2.createTrackbar('maxVal','Trackbar',0,255,empty) # maxVal\n",
    "\n",
    "while True:\n",
    "    if cv2.getWindowProperty('Trackbar', cv2.WND_PROP_VISIBLE) < 1:\n",
    "        break\n",
    "        \n",
    "    threshold1=cv2.getTrackbarPos('minVal','Trackbar')\n",
    "    threshold2=cv2.getTrackbarPos('maxVal','Trackbar')\n",
    "    \n",
    "    canny=cv2.Canny(img,threshold1,threshold2)\n",
    "\n",
    "    cv2.imshow('img',img)\n",
    "    cv2.imshow('Trackbar',canny)\n",
    "\n",
    "    if cv2.waitKey(1) == ord('q'):\n",
    "        break\n",
    "    \n",
    "cv2.destroyAllWindows()"
   ]
  }
 ],
 "metadata": {
  "kernelspec": {
   "display_name": "Python 3 (ipykernel)",
   "language": "python",
   "name": "python3"
  },
  "language_info": {
   "codemirror_mode": {
    "name": "ipython",
    "version": 3
   },
   "file_extension": ".py",
   "mimetype": "text/x-python",
   "name": "python",
   "nbconvert_exporter": "python",
   "pygments_lexer": "ipython3",
   "version": "3.11.9"
  },
  "toc": {
   "base_numbering": 1,
   "nav_menu": {},
   "number_sections": true,
   "sideBar": true,
   "skip_h1_title": false,
   "title_cell": "Table of Contents",
   "title_sidebar": "Contents",
   "toc_cell": false,
   "toc_position": {
    "height": "calc(100% - 180px)",
    "left": "10px",
    "top": "150px",
    "width": "310.417px"
   },
   "toc_section_display": true,
   "toc_window_display": false
  },
  "varInspector": {
   "cols": {
    "lenName": 16,
    "lenType": 16,
    "lenVar": 40
   },
   "kernels_config": {
    "python": {
     "delete_cmd_postfix": "",
     "delete_cmd_prefix": "del ",
     "library": "var_list.py",
     "varRefreshCmd": "print(var_dic_list())"
    },
    "r": {
     "delete_cmd_postfix": ") ",
     "delete_cmd_prefix": "rm(",
     "library": "var_list.r",
     "varRefreshCmd": "cat(var_dic_list()) "
    }
   },
   "types_to_exclude": [
    "module",
    "function",
    "builtin_function_or_method",
    "instance",
    "_Feature"
   ],
   "window_display": false
  }
 },
 "nbformat": 4,
 "nbformat_minor": 5
}
