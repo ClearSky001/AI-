{
 "cells": [
  {
   "cell_type": "markdown",
   "id": "a96190e2",
   "metadata": {},
   "source": [
    "# 이미지 검출(윤곽선)"
   ]
  },
  {
   "cell_type": "markdown",
   "id": "e2b06e5e",
   "metadata": {},
   "source": [
    "## 윤곽선(Contour) : 경계선을 연결한 선\n",
    "\n",
    "* 윤곽선 검출\n",
    "> contours,hierarchy=cv2.findContours(이미지 변수명,윤곽선 찾기 모드(mode),근사치 방법(method))\n",
    "이미지는 반드시 그레이스케일 또는 이진화된 이미지\n",
    "\n",
    "근사치 방법 : cv2.CHAIN_APPROX_NONE, cv2.CHAIN_APPROX_SIMPLE\n",
    "\n",
    "* 윤곽선 그리기\n",
    "> cv2.drawContours(사본 이미지 변수명,contours,인덱스,색깔,두께)"
   ]
  },
  {
   "cell_type": "code",
   "execution_count": 6,
   "id": "fc4b0136",
   "metadata": {},
   "outputs": [
    {
     "name": "stdout",
     "output_type": "stream",
     "text": [
      "ret_otsu_threshold: 128.0\n"
     ]
    }
   ],
   "source": [
    "import cv2\n",
    "\n",
    "img=cv2.imread('card.png')\n",
    "target_img=img.copy() # 사본 이미지(cv2.findContours() 함수는 입력 이미지를 수정하므로, 원본 이미지를 보존하려면 입력 이미지의 복사본을 사용해야 함)\n",
    "\n",
    "gray=cv2.cvtColor(img,cv2.COLOR_BGR2GRAY)\n",
    "\n",
    "ret_otsu,otsu=cv2.threshold(gray,-1,255,cv2.THRESH_BINARY|cv2.THRESH_OTSU)\n",
    "print('ret_otsu_threshold:',ret_otsu)\n",
    "\n",
    "# 윤곽선 검출\n",
    "contours,hierarchy=cv2.findContours(otsu,cv2.RETR_LIST,cv2.CHAIN_APPROX_NONE)\n",
    "\n",
    "# 윤곽선 그리기\n",
    "COLOR=(0,200,0) # 녹색\n",
    "cv2.drawContours(target_img,contours,-1,COLOR,2)\n",
    "\n",
    "cv2.imshow('card',img)\n",
    "cv2.imshow('gray',gray)\n",
    "cv2.imshow('otsu',otsu)\n",
    "cv2.imshow('contour',target_img)\n",
    "\n",
    "cv2.waitKey(0)\n",
    "cv2.destroyAllWindows()"
   ]
  },
  {
   "cell_type": "markdown",
   "id": "66d47004",
   "metadata": {},
   "source": [
    "### 윤곽선 찾기 모드\n",
    "\n",
    "1. cv2.RETR_EXTERNAL : 가장 외곽의 윤곽선만 찾음\n",
    "2. cv2.RETR_LIST : 모든 윤곽선 찾음(계층 정보 없음)\n",
    "3. cv2.RETR_TREE : 모든 윤곽선 찾음(계층 정보를 트리 구성으로 생성)"
   ]
  },
  {
   "cell_type": "code",
   "execution_count": 10,
   "id": "4a74ea24",
   "metadata": {},
   "outputs": [
    {
     "name": "stdout",
     "output_type": "stream",
     "text": [
      "ret_otsu_threshold: 128.0\n",
      "[[[ 1 -1 -1 -1]\n",
      "  [ 2  0 -1 -1]\n",
      "  [ 3  1 -1 -1]\n",
      "  [ 4  2 -1 -1]\n",
      "  [ 5  3 -1 -1]\n",
      "  [ 6  4 -1 -1]\n",
      "  [ 7  5 -1 -1]\n",
      "  [-1  6 -1 -1]]]\n",
      "총 발견 갯수 : 8\n"
     ]
    }
   ],
   "source": [
    "import cv2\n",
    "\n",
    "img=cv2.imread('card.png')\n",
    "target_img=img.copy() # 사본 이미지(cv2.findContours() 함수는 입력 이미지를 수정하므로, 원본 이미지를 보존하려면 입력 이미지의 복사본을 사용해야 함)\n",
    "\n",
    "gray=cv2.cvtColor(img,cv2.COLOR_BGR2GRAY)\n",
    "\n",
    "ret_otsu,otsu=cv2.threshold(gray,-1,255,cv2.THRESH_BINARY|cv2.THRESH_OTSU)\n",
    "print('ret_otsu_threshold:',ret_otsu)\n",
    "\n",
    "#contours,hierarchy=cv2.findContours(otsu,cv2.RETR_LIST,cv2.CHAIN_APPROX_NONE)\n",
    "contours,hierarchy=cv2.findContours(otsu,cv2.RETR_EXTERNAL,cv2.CHAIN_APPROX_NONE)\n",
    "#contours,hierarchy=cv2.findContours(otsu,cv2.RETR_TREE,cv2.CHAIN_APPROX_NONE)\n",
    "print(hierarchy)\n",
    "print(f'총 발견 갯수 : {len(contours)}')\n",
    "\n",
    "COLOR=(0,200,0) # 녹색\n",
    "cv2.drawContours(target_img,contours,-1,COLOR,2)\n",
    "\n",
    "cv2.imshow('card',img)\n",
    "cv2.imshow('gray',gray)\n",
    "cv2.imshow('otsu',otsu)\n",
    "cv2.imshow('contour',target_img)\n",
    "\n",
    "cv2.waitKey(0)\n",
    "cv2.destroyAllWindows()"
   ]
  },
  {
   "cell_type": "markdown",
   "id": "e65524ff",
   "metadata": {},
   "source": [
    "## 경계 사각형\n",
    "윤곽선의 경계면을 둘러싸는 사각형\n",
    ">x,y,width,height=cv2.boundingRect(cnt)"
   ]
  },
  {
   "cell_type": "code",
   "execution_count": 12,
   "id": "ae9ad7d6",
   "metadata": {
    "scrolled": true
   },
   "outputs": [
    {
     "name": "stdout",
     "output_type": "stream",
     "text": [
      "ret_otsu_threshold: 128.0\n",
      "[[[ 1 -1 -1 -1]\n",
      "  [ 2  0 -1 -1]\n",
      "  [ 3  1 -1 -1]\n",
      "  [ 4  2 -1 -1]\n",
      "  [ 5  3 -1 -1]\n",
      "  [ 6  4 -1 -1]\n",
      "  [ 7  5 -1 -1]\n",
      "  [ 8  6 -1 -1]\n",
      "  [ 9  7 -1 -1]\n",
      "  [10  8 -1 -1]\n",
      "  [11  9 -1 -1]\n",
      "  [12 10 -1 -1]\n",
      "  [13 11 -1 -1]\n",
      "  [14 12 -1 -1]\n",
      "  [15 13 -1 -1]\n",
      "  [16 14 -1 -1]\n",
      "  [17 15 -1 -1]\n",
      "  [18 16 -1 -1]\n",
      "  [19 17 -1 -1]\n",
      "  [20 18 -1 -1]\n",
      "  [21 19 -1 -1]\n",
      "  [22 20 -1 -1]\n",
      "  [23 21 -1 -1]\n",
      "  [24 22 -1 -1]\n",
      "  [25 23 -1 -1]\n",
      "  [26 24 -1 -1]\n",
      "  [27 25 -1 -1]\n",
      "  [28 26 -1 -1]\n",
      "  [29 27 -1 -1]\n",
      "  [30 28 -1 -1]\n",
      "  [31 29 -1 -1]\n",
      "  [32 30 -1 -1]\n",
      "  [33 31 -1 -1]\n",
      "  [34 32 -1 -1]\n",
      "  [35 33 -1 -1]\n",
      "  [-1 34 -1 -1]]]\n",
      "총 발견 갯수 : 36\n"
     ]
    }
   ],
   "source": [
    "import cv2\n",
    "\n",
    "img=cv2.imread('card.png')\n",
    "target_img=img.copy() # 사본 이미지(cv2.findContours() 함수는 입력 이미지를 수정하므로, 원본 이미지를 보존하려면 입력 이미지의 복사본을 사용해야 함)\n",
    "\n",
    "gray=cv2.cvtColor(img,cv2.COLOR_BGR2GRAY)\n",
    "\n",
    "ret_otsu,otsu=cv2.threshold(gray,-1,255,cv2.THRESH_BINARY|cv2.THRESH_OTSU)\n",
    "print('ret_otsu_threshold:',ret_otsu)\n",
    "\n",
    "contours,hierarchy=cv2.findContours(otsu,cv2.RETR_LIST,cv2.CHAIN_APPROX_NONE)\n",
    "\n",
    "print(hierarchy)\n",
    "print(f'총 발견 갯수 : {len(contours)}')\n",
    "\n",
    "COLOR=(0,200,0) # 녹색\n",
    "\n",
    "# 경계 사각형 그리기\n",
    "for cnt in contours:\n",
    "    x,y,width,height=cv2.boundingRect(cnt)\n",
    "    cv2.rectangle(target_img,(x,y),(x+width,y+height),COLOR,2)\n",
    "\n",
    "cv2.imshow('card',img)\n",
    "cv2.imshow('gray',gray)\n",
    "cv2.imshow('otsu',otsu)\n",
    "cv2.imshow('contour',target_img)\n",
    "\n",
    "cv2.waitKey(0)\n",
    "cv2.destroyAllWindows()"
   ]
  },
  {
   "cell_type": "markdown",
   "id": "37631162",
   "metadata": {},
   "source": [
    "### 면적\n",
    "> cv2.contourArea(cnt)"
   ]
  },
  {
   "cell_type": "code",
   "execution_count": 14,
   "id": "e29eadc8",
   "metadata": {
    "scrolled": true
   },
   "outputs": [
    {
     "name": "stdout",
     "output_type": "stream",
     "text": [
      "ret_otsu_threshold: 128.0\n",
      "[[[ 1 -1 -1 -1]\n",
      "  [ 2  0 -1 -1]\n",
      "  [ 3  1 -1 -1]\n",
      "  [ 4  2 -1 -1]\n",
      "  [ 5  3 -1 -1]\n",
      "  [ 6  4 -1 -1]\n",
      "  [ 7  5 -1 -1]\n",
      "  [ 8  6 -1 -1]\n",
      "  [ 9  7 -1 -1]\n",
      "  [10  8 -1 -1]\n",
      "  [11  9 -1 -1]\n",
      "  [12 10 -1 -1]\n",
      "  [13 11 -1 -1]\n",
      "  [14 12 -1 -1]\n",
      "  [15 13 -1 -1]\n",
      "  [16 14 -1 -1]\n",
      "  [17 15 -1 -1]\n",
      "  [18 16 -1 -1]\n",
      "  [19 17 -1 -1]\n",
      "  [20 18 -1 -1]\n",
      "  [21 19 -1 -1]\n",
      "  [22 20 -1 -1]\n",
      "  [23 21 -1 -1]\n",
      "  [24 22 -1 -1]\n",
      "  [25 23 -1 -1]\n",
      "  [26 24 -1 -1]\n",
      "  [27 25 -1 -1]\n",
      "  [28 26 -1 -1]\n",
      "  [29 27 -1 -1]\n",
      "  [30 28 -1 -1]\n",
      "  [31 29 -1 -1]\n",
      "  [32 30 -1 -1]\n",
      "  [33 31 -1 -1]\n",
      "  [34 32 -1 -1]\n",
      "  [35 33 -1 -1]\n",
      "  [-1 34 -1 -1]]]\n",
      "총 발견 갯수 : 36\n"
     ]
    }
   ],
   "source": [
    "import cv2\n",
    "\n",
    "img=cv2.imread('card.png')\n",
    "target_img=img.copy() # 사본 이미지(cv2.findContours() 함수는 입력 이미지를 수정하므로, 원본 이미지를 보존하려면 입력 이미지의 복사본을 사용해야 함)\n",
    "\n",
    "gray=cv2.cvtColor(img,cv2.COLOR_BGR2GRAY)\n",
    "\n",
    "ret_otsu,otsu=cv2.threshold(gray,-1,255,cv2.THRESH_BINARY|cv2.THRESH_OTSU)\n",
    "print('ret_otsu_threshold:',ret_otsu)\n",
    "\n",
    "contours,hierarchy=cv2.findContours(otsu,cv2.RETR_LIST,cv2.CHAIN_APPROX_NONE)\n",
    "\n",
    "print(hierarchy)\n",
    "print(f'총 발견 갯수 : {len(contours)}')\n",
    "\n",
    "COLOR=(0,200,0) # 녹색\n",
    "\n",
    "for cnt in contours:\n",
    "    if cv2.contourArea(cnt)>25000:\n",
    "        x,y,width,height=cv2.boundingRect(cnt)\n",
    "        cv2.rectangle(target_img,(x,y),(x+width,y+height),COLOR,2)\n",
    "\n",
    "cv2.imshow('card',img)\n",
    "#cv2.imshow('gray',gray)\n",
    "#cv2.imshow('otsu',otsu)\n",
    "cv2.imshow('contour',target_img)\n",
    "\n",
    "cv2.waitKey(0)\n",
    "cv2.destroyAllWindows()"
   ]
  }
 ],
 "metadata": {
  "kernelspec": {
   "display_name": "Python 3 (ipykernel)",
   "language": "python",
   "name": "python3"
  },
  "language_info": {
   "codemirror_mode": {
    "name": "ipython",
    "version": 3
   },
   "file_extension": ".py",
   "mimetype": "text/x-python",
   "name": "python",
   "nbconvert_exporter": "python",
   "pygments_lexer": "ipython3",
   "version": "3.11.9"
  },
  "toc": {
   "base_numbering": 1,
   "nav_menu": {},
   "number_sections": true,
   "sideBar": true,
   "skip_h1_title": false,
   "title_cell": "Table of Contents",
   "title_sidebar": "Contents",
   "toc_cell": false,
   "toc_position": {
    "height": "calc(100% - 180px)",
    "left": "10px",
    "top": "150px",
    "width": "310.417px"
   },
   "toc_section_display": true,
   "toc_window_display": false
  },
  "varInspector": {
   "cols": {
    "lenName": 16,
    "lenType": 16,
    "lenVar": 40
   },
   "kernels_config": {
    "python": {
     "delete_cmd_postfix": "",
     "delete_cmd_prefix": "del ",
     "library": "var_list.py",
     "varRefreshCmd": "print(var_dic_list())"
    },
    "r": {
     "delete_cmd_postfix": ") ",
     "delete_cmd_prefix": "rm(",
     "library": "var_list.r",
     "varRefreshCmd": "cat(var_dic_list()) "
    }
   },
   "types_to_exclude": [
    "module",
    "function",
    "builtin_function_or_method",
    "instance",
    "_Feature"
   ],
   "window_display": false
  }
 },
 "nbformat": 4,
 "nbformat_minor": 5
}
