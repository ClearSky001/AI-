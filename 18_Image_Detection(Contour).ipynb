{
 "cells": [
  {
   "cell_type": "markdown",
   "id": "a96190e2",
   "metadata": {},
   "source": [
    "# 이미지 검출(윤곽선)"
   ]
  },
  {
   "cell_type": "markdown",
   "id": "e2b06e5e",
   "metadata": {},
   "source": [
    "## 윤곽선(Contour) : 경계선을 연결한 선\n",
    "\n",
    "* 윤곽선 검출\n",
    "> contours,hierarchy=cv2.findContours(이미지 변수명,윤곽선 찾기 모드(mode),근사치 방법(method))\n",
    "이미지는 반드시 그레이스케일 또는 이진화된 이미지\n",
    "\n",
    "* 윤곽선 그리기\n",
    "> cv2.drawContours(사본 이미지 변수명,contours,인덱스,색깔,두께)"
   ]
  },
  {
   "cell_type": "code",
   "execution_count": 6,
   "id": "fc4b0136",
   "metadata": {},
   "outputs": [
    {
     "name": "stdout",
     "output_type": "stream",
     "text": [
      "ret_otsu_threshold: 128.0\n"
     ]
    }
   ],
   "source": [
    "import cv2\n",
    "\n",
    "img=cv2.imread('card.png')\n",
    "target_img=img.copy() # 사본 이미지(cv2.findContours() 함수는 입력 이미지를 수정하므로, 원본 이미지를 보존하려면 입력 이미지의 복사본을 사용해야 함)\n",
    "\n",
    "gray=cv2.cvtColor(img,cv2.COLOR_BGR2GRAY)\n",
    "\n",
    "ret_otsu,otsu=cv2.threshold(gray,-1,255,cv2.THRESH_BINARY|cv2.THRESH_OTSU)\n",
    "print('ret_otsu_threshold:',ret_otsu)\n",
    "\n",
    "# 윤곽선 검출\n",
    "contours,hierarchy=cv2.findContours(otsu,cv2.RETR_LIST,cv2.CHAIN_APPROX_NONE)\n",
    "\n",
    "# 윤곽선 그리기\n",
    "COLOR=(0,200,0) # 녹색\n",
    "cv2.drawContours(target_img,contours,-1,COLOR,2)\n",
    "\n",
    "cv2.imshow('card',img)\n",
    "cv2.imshow('gray',gray)\n",
    "cv2.imshow('otsu',otsu)\n",
    "cv2.imshow('contour',target_img)\n",
    "\n",
    "cv2.waitKey(0)\n",
    "cv2.destroyAllWindows()"
   ]
  },
  {
   "cell_type": "markdown",
   "id": "66d47004",
   "metadata": {},
   "source": [
    "### 윤곽선 찾기 모드\n",
    "\n",
    "1. cv2.RETR_EXTERNAL : 가장 외곽의 윤곽선만 찾음\n",
    "2. cv2.RETR_LIST : 모든 윤곽선 찾음(계층 정보 없음)\n",
    "3. cv2.RETR_TREE : 모든 윤곽선 찾음(계층 정보를 트리 구성으로 생성)"
   ]
  },
  {
   "cell_type": "code",
   "execution_count": 5,
   "id": "4a74ea24",
   "metadata": {},
   "outputs": [
    {
     "name": "stdout",
     "output_type": "stream",
     "text": [
      "ret_otsu_threshold: 128.0\n",
      "[[[ 1 -1 -1 -1]\n",
      "  [ 2  0 -1 -1]\n",
      "  [ 3  1 -1 -1]\n",
      "  [ 4  2 -1 -1]\n",
      "  [ 5  3 -1 -1]\n",
      "  [ 6  4 -1 -1]\n",
      "  [ 7  5 -1 -1]\n",
      "  [-1  6 -1 -1]]]\n",
      "총 발견 갯수 : 8\n"
     ]
    }
   ],
   "source": [
    "import cv2\n",
    "\n",
    "img=cv2.imread('card.png')\n",
    "target_img=img.copy() # 사본 이미지(cv2.findContours() 함수는 입력 이미지를 수정하므로, 원본 이미지를 보존하려면 입력 이미지의 복사본을 사용해야 함)\n",
    "\n",
    "gray=cv2.cvtColor(img,cv2.COLOR_BGR2GRAY)\n",
    "\n",
    "ret_otsu,otsu=cv2.threshold(gray,-1,255,cv2.THRESH_BINARY|cv2.THRESH_OTSU)\n",
    "print('ret_otsu_threshold:',ret_otsu)\n",
    "\n",
    "#contours,hierarchy=cv2.findContours(otsu,cv2.RETR_LIST,cv2.CHAIN_APPROX_NONE)\n",
    "contours,hierarchy=cv2.findContours(otsu,cv2.RETR_EXTERNAL,cv2.CHAIN_APPROX_NONE)\n",
    "#contours,hierarchy=cv2.findContours(otsu,cv2.RETR_TREE,cv2.CHAIN_APPROX_NONE)\n",
    "print(hierarchy)\n",
    "print(f'총 발견 갯수 : {len(contours)}')\n",
    "\n",
    "COLOR=(0,200,0) # 녹색\n",
    "cv2.drawContours(target_img,contours,-1,COLOR,2)\n",
    "\n",
    "cv2.imshow('card',img)\n",
    "cv2.imshow('gray',gray)\n",
    "cv2.imshow('otsu',otsu)\n",
    "cv2.imshow('contour',target_img)\n",
    "\n",
    "cv2.waitKey(0)\n",
    "cv2.destroyAllWindows()"
   ]
  },
  {
   "cell_type": "code",
   "execution_count": null,
   "id": "6aa062da",
   "metadata": {},
   "outputs": [],
   "source": []
  }
 ],
 "metadata": {
  "kernelspec": {
   "display_name": "Python 3 (ipykernel)",
   "language": "python",
   "name": "python3"
  },
  "language_info": {
   "codemirror_mode": {
    "name": "ipython",
    "version": 3
   },
   "file_extension": ".py",
   "mimetype": "text/x-python",
   "name": "python",
   "nbconvert_exporter": "python",
   "pygments_lexer": "ipython3",
   "version": "3.11.9"
  },
  "toc": {
   "base_numbering": 1,
   "nav_menu": {},
   "number_sections": true,
   "sideBar": true,
   "skip_h1_title": false,
   "title_cell": "Table of Contents",
   "title_sidebar": "Contents",
   "toc_cell": false,
   "toc_position": {},
   "toc_section_display": true,
   "toc_window_display": false
  },
  "varInspector": {
   "cols": {
    "lenName": 16,
    "lenType": 16,
    "lenVar": 40
   },
   "kernels_config": {
    "python": {
     "delete_cmd_postfix": "",
     "delete_cmd_prefix": "del ",
     "library": "var_list.py",
     "varRefreshCmd": "print(var_dic_list())"
    },
    "r": {
     "delete_cmd_postfix": ") ",
     "delete_cmd_prefix": "rm(",
     "library": "var_list.r",
     "varRefreshCmd": "cat(var_dic_list()) "
    }
   },
   "types_to_exclude": [
    "module",
    "function",
    "builtin_function_or_method",
    "instance",
    "_Feature"
   ],
   "window_display": false
  }
 },
 "nbformat": 4,
 "nbformat_minor": 5
}
