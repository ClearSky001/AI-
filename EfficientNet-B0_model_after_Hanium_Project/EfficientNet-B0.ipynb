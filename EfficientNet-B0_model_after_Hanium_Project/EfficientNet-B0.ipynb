{
 "cells": [
  {
   "cell_type": "markdown",
   "id": "8c12b8f3-93b5-4b03-a4b6-05f68a3f4471",
   "metadata": {},
   "source": [
    "# 필요 라이브러리 임포트"
   ]
  },
  {
   "cell_type": "code",
   "execution_count": 1,
   "id": "ec7de315-8e5f-4525-83b3-31da0669a374",
   "metadata": {},
   "outputs": [],
   "source": [
    "import torch\n",
    "from torch.utils.data import DataLoader, random_split\n",
    "from torch.optim import SGD\n",
    "from torchvision.transforms import transforms\n",
    "from torchvision.models import efficientnet_b0\n",
    "from PIL import Image\n",
    "from tqdm import tqdm\n",
    "import wandb\n",
    "import os\n",
    "from sklearn.metrics import accuracy_score"
   ]
  },
  {
   "cell_type": "markdown",
   "id": "aab085df-37b3-4d48-8e7d-8193864f896a",
   "metadata": {},
   "source": [
    "# 모델 정의 & 학습"
   ]
  },
  {
   "cell_type": "code",
   "execution_count": 14,
   "id": "ccb92cf6-205f-4906-998a-861181aaab7a",
   "metadata": {},
   "outputs": [
    {
     "data": {
      "text/html": [
       "wandb version 0.19.0 is available!  To upgrade, please run:\n",
       " $ pip install wandb --upgrade"
      ],
      "text/plain": [
       "<IPython.core.display.HTML object>"
      ]
     },
     "metadata": {},
     "output_type": "display_data"
    },
    {
     "data": {
      "text/html": [
       "Tracking run with wandb version 0.17.7"
      ],
      "text/plain": [
       "<IPython.core.display.HTML object>"
      ]
     },
     "metadata": {},
     "output_type": "display_data"
    },
    {
     "data": {
      "text/html": [
       "Run data is saved locally in <code>/students/vision002/team4/성엽/wandb/wandb/run-20241211_133339-oz7u63dm</code>"
      ],
      "text/plain": [
       "<IPython.core.display.HTML object>"
      ]
     },
     "metadata": {},
     "output_type": "display_data"
    },
    {
     "data": {
      "text/html": [
       "Syncing run <strong><a href='https://wandb.ai/unknownlimitless0301-university-of-suwon6591/Fruit_recognition/runs/oz7u63dm' target=\"_blank\">EfficientNet_1st_train</a></strong> to <a href='https://wandb.ai/unknownlimitless0301-university-of-suwon6591/Fruit_recognition' target=\"_blank\">Weights & Biases</a> (<a href='https://wandb.me/run' target=\"_blank\">docs</a>)<br/>"
      ],
      "text/plain": [
       "<IPython.core.display.HTML object>"
      ]
     },
     "metadata": {},
     "output_type": "display_data"
    },
    {
     "data": {
      "text/html": [
       " View project at <a href='https://wandb.ai/unknownlimitless0301-university-of-suwon6591/Fruit_recognition' target=\"_blank\">https://wandb.ai/unknownlimitless0301-university-of-suwon6591/Fruit_recognition</a>"
      ],
      "text/plain": [
       "<IPython.core.display.HTML object>"
      ]
     },
     "metadata": {},
     "output_type": "display_data"
    },
    {
     "data": {
      "text/html": [
       " View run at <a href='https://wandb.ai/unknownlimitless0301-university-of-suwon6591/Fruit_recognition/runs/oz7u63dm' target=\"_blank\">https://wandb.ai/unknownlimitless0301-university-of-suwon6591/Fruit_recognition/runs/oz7u63dm</a>"
      ],
      "text/plain": [
       "<IPython.core.display.HTML object>"
      ]
     },
     "metadata": {},
     "output_type": "display_data"
    },
    {
     "name": "stderr",
     "output_type": "stream",
     "text": [
      "/opt/conda/lib/python3.11/site-packages/torchvision/models/_utils.py:208: UserWarning: The parameter 'pretrained' is deprecated since 0.13 and may be removed in the future, please use 'weights' instead.\n",
      "  warnings.warn(\n",
      "/opt/conda/lib/python3.11/site-packages/torchvision/models/_utils.py:223: UserWarning: Arguments other than a weight enum or `None` for 'weights' are deprecated since 0.13 and may be removed in the future. The current behavior is equivalent to passing `weights=EfficientNet_B0_Weights.IMAGENET1K_V1`. You can also use `weights=EfficientNet_B0_Weights.DEFAULT` to get the most up-to-date weights.\n",
      "  warnings.warn(msg)\n"
     ]
    },
    {
     "name": "stdout",
     "output_type": "stream",
     "text": [
      "Epoch 1/10\n"
     ]
    },
    {
     "name": "stderr",
     "output_type": "stream",
     "text": [
      "Training: 100%|██████████| 57/57 [00:07<00:00,  7.82it/s, accuracy=0.859, loss=0.339]\n"
     ]
    },
    {
     "name": "stdout",
     "output_type": "stream",
     "text": [
      "Saved Best Model at Epoch 1\n",
      "Epoch 2/10\n"
     ]
    },
    {
     "name": "stderr",
     "output_type": "stream",
     "text": [
      "Training: 100%|██████████| 57/57 [00:06<00:00,  9.22it/s, accuracy=0.981, loss=0.202]\n"
     ]
    },
    {
     "name": "stdout",
     "output_type": "stream",
     "text": [
      "Epoch 3/10\n"
     ]
    },
    {
     "name": "stderr",
     "output_type": "stream",
     "text": [
      "Training: 100%|██████████| 57/57 [00:05<00:00,  9.67it/s, accuracy=0.986, loss=0.194] \n"
     ]
    },
    {
     "name": "stdout",
     "output_type": "stream",
     "text": [
      "Saved Best Model at Epoch 3\n",
      "Epoch 4/10\n"
     ]
    },
    {
     "name": "stderr",
     "output_type": "stream",
     "text": [
      "Training: 100%|██████████| 57/57 [00:06<00:00,  9.13it/s, accuracy=0.99, loss=0.0544] \n"
     ]
    },
    {
     "name": "stdout",
     "output_type": "stream",
     "text": [
      "Epoch 5/10\n"
     ]
    },
    {
     "name": "stderr",
     "output_type": "stream",
     "text": [
      "Training: 100%|██████████| 57/57 [00:05<00:00,  9.55it/s, accuracy=0.992, loss=0.0816]\n"
     ]
    },
    {
     "name": "stdout",
     "output_type": "stream",
     "text": [
      "Epoch 6/10\n"
     ]
    },
    {
     "name": "stderr",
     "output_type": "stream",
     "text": [
      "Training: 100%|██████████| 57/57 [00:06<00:00,  8.94it/s, accuracy=0.987, loss=0.0596]\n"
     ]
    },
    {
     "name": "stdout",
     "output_type": "stream",
     "text": [
      "Epoch 7/10\n"
     ]
    },
    {
     "name": "stderr",
     "output_type": "stream",
     "text": [
      "Training: 100%|██████████| 57/57 [00:06<00:00,  9.17it/s, accuracy=0.989, loss=0.0564]\n"
     ]
    },
    {
     "name": "stdout",
     "output_type": "stream",
     "text": [
      "Saved Best Model at Epoch 7\n",
      "Epoch 8/10\n"
     ]
    },
    {
     "name": "stderr",
     "output_type": "stream",
     "text": [
      "Training: 100%|██████████| 57/57 [00:06<00:00,  9.39it/s, accuracy=0.996, loss=0.0869]\n"
     ]
    },
    {
     "name": "stdout",
     "output_type": "stream",
     "text": [
      "Epoch 9/10\n"
     ]
    },
    {
     "name": "stderr",
     "output_type": "stream",
     "text": [
      "Training: 100%|██████████| 57/57 [00:06<00:00,  8.99it/s, accuracy=0.992, loss=0.0375]\n"
     ]
    },
    {
     "name": "stdout",
     "output_type": "stream",
     "text": [
      "Epoch 10/10\n"
     ]
    },
    {
     "name": "stderr",
     "output_type": "stream",
     "text": [
      "Training: 100%|██████████| 57/57 [00:06<00:00,  9.21it/s, accuracy=0.991, loss=0.105] \n"
     ]
    },
    {
     "data": {
      "application/vnd.jupyter.widget-view+json": {
       "model_id": "",
       "version_major": 2,
       "version_minor": 0
      },
      "text/plain": [
       "VBox(children=(Label(value='0.004 MB of 0.004 MB uploaded\\r'), FloatProgress(value=1.0, max=1.0)))"
      ]
     },
     "metadata": {},
     "output_type": "display_data"
    },
    {
     "data": {
      "text/html": [
       "<style>\n",
       "    table.wandb td:nth-child(1) { padding: 0 10px; text-align: left ; width: auto;} td:nth-child(2) {text-align: left ; width: 100%}\n",
       "    .wandb-row { display: flex; flex-direction: row; flex-wrap: wrap; justify-content: flex-start; width: 100% }\n",
       "    .wandb-col { display: flex; flex-direction: column; flex-basis: 100%; flex: 1; padding: 10px; }\n",
       "    </style>\n",
       "<div class=\"wandb-row\"><div class=\"wandb-col\"><h3>Run history:</h3><br/><table class=\"wandb\"><tr><td>train_accuracy</td><td>▁▇▇███████</td></tr><tr><td>train_loss</td><td>█▃▂▂▁▁▁▁▁▁</td></tr><tr><td>val_accuracy</td><td>▁▁▇▇▇▇█▇██</td></tr><tr><td>val_loss</td><td>█▅▃▃▂▂▂▁▁▁</td></tr></table><br/></div><div class=\"wandb-col\"><h3>Run summary:</h3><br/><table class=\"wandb\"><tr><td>train_accuracy</td><td>0.99062</td></tr><tr><td>train_loss</td><td>0.0702</td></tr><tr><td>val_accuracy</td><td>1.0</td></tr><tr><td>val_loss</td><td>0.04145</td></tr></table><br/></div></div>"
      ],
      "text/plain": [
       "<IPython.core.display.HTML object>"
      ]
     },
     "metadata": {},
     "output_type": "display_data"
    },
    {
     "data": {
      "text/html": [
       " View run <strong style=\"color:#cdcd00\">EfficientNet_1st_train</strong> at: <a href='https://wandb.ai/unknownlimitless0301-university-of-suwon6591/Fruit_recognition/runs/oz7u63dm' target=\"_blank\">https://wandb.ai/unknownlimitless0301-university-of-suwon6591/Fruit_recognition/runs/oz7u63dm</a><br/> View project at: <a href='https://wandb.ai/unknownlimitless0301-university-of-suwon6591/Fruit_recognition' target=\"_blank\">https://wandb.ai/unknownlimitless0301-university-of-suwon6591/Fruit_recognition</a><br/>Synced 6 W&B file(s), 0 media file(s), 0 artifact file(s) and 0 other file(s)"
      ],
      "text/plain": [
       "<IPython.core.display.HTML object>"
      ]
     },
     "metadata": {},
     "output_type": "display_data"
    },
    {
     "data": {
      "text/html": [
       "Find logs at: <code>./wandb/wandb/run-20241211_133339-oz7u63dm/logs</code>"
      ],
      "text/plain": [
       "<IPython.core.display.HTML object>"
      ]
     },
     "metadata": {},
     "output_type": "display_data"
    },
    {
     "data": {
      "text/html": [
       "The new W&B backend becomes opt-out in version 0.18.0; try it out with `wandb.require(\"core\")`! See https://wandb.me/wandb-core for more information."
      ],
      "text/plain": [
       "<IPython.core.display.HTML object>"
      ]
     },
     "metadata": {},
     "output_type": "display_data"
    }
   ],
   "source": [
    "# Initialize WandB\n",
    "wandb.init(\n",
    "    project=\"Fruit_recognition\",\n",
    "    name=\"EfficientNet_1st_train\",\n",
    "    dir=\"/students/vision002/team4/성엽/wandb\",  # wandb 저장 경로 지정\n",
    "    config={\n",
    "        \"learning_rate\": 0.001,\n",
    "        \"epochs\": 10,\n",
    "        \"batch_size\": 32,\n",
    "        \"model\": \"EfficientNet-B0\"\n",
    "    }\n",
    ")\n",
    "\n",
    "# 데이터셋 클래스 정의\n",
    "class FruitDataset(torch.utils.data.Dataset):\n",
    "    def __init__(self, root_dir, transforms=None):\n",
    "        self.root_dir = root_dir\n",
    "        self.transforms = transforms\n",
    "        self.classes = {\"Apple\": 0, \"Banana\": 1, \"Orange\": 2}\n",
    "        self.images = []\n",
    "        self.labels = []\n",
    "\n",
    "        for label_name, label in self.classes.items():\n",
    "            label_dir = os.path.join(root_dir, label_name)\n",
    "            if os.path.exists(label_dir):\n",
    "                for img_file in os.listdir(label_dir):\n",
    "                    # 이미지 파일만 추가\n",
    "                    if img_file.lower().endswith(('.png', '.jpg', '.jpeg')):\n",
    "                        self.images.append(os.path.join(label_dir, img_file))\n",
    "                        self.labels.append(label)\n",
    "\n",
    "    def __len__(self):\n",
    "        return len(self.images)\n",
    "\n",
    "    def __getitem__(self, idx):\n",
    "        image_path = self.images[idx]\n",
    "        label = self.labels[idx]\n",
    "\n",
    "        try:\n",
    "            image = Image.open(image_path).convert(\"RGB\")\n",
    "        except Exception as e:\n",
    "            raise RuntimeError(f\"Error loading image: {image_path}. {e}\")\n",
    "\n",
    "        if self.transforms:\n",
    "            image = self.transforms(image)\n",
    "\n",
    "        return image, label\n",
    "\n",
    "# 데이터 로더 생성 함수\n",
    "def get_data_loaders(batch_size=32, num_workers=4):\n",
    "    transform_train = transforms.Compose([\n",
    "        transforms.Resize((224, 224)),\n",
    "        transforms.RandomHorizontalFlip(0.5),\n",
    "        transforms.ToTensor(),\n",
    "        transforms.Normalize(mean=[0.485, 0.456, 0.406], std=[0.229, 0.224, 0.225])\n",
    "    ])\n",
    "    transform_test = transforms.Compose([\n",
    "        transforms.Resize((224, 224)),\n",
    "        transforms.ToTensor(),\n",
    "        transforms.Normalize(mean=[0.485, 0.456, 0.406], std=[0.229, 0.224, 0.225])\n",
    "    ])\n",
    "\n",
    "    train_dir = \"/students/vision002/team4/data/Train\"\n",
    "    test_dir = \"/students/vision002/team4/data/Test\"\n",
    "\n",
    "    # Train 데이터셋 로드 및 분할\n",
    "    full_train_dataset = FruitDataset(train_dir, transforms=transform_train)\n",
    "    train_size = int(0.8 * len(full_train_dataset))\n",
    "    val_size = len(full_train_dataset) - train_size\n",
    "    train_dataset, val_dataset = random_split(full_train_dataset, [train_size, val_size])\n",
    "\n",
    "    train_loader = DataLoader(train_dataset, batch_size=batch_size, shuffle=True, num_workers=num_workers)\n",
    "    val_loader = DataLoader(val_dataset, batch_size=batch_size, shuffle=False, num_workers=num_workers)\n",
    "\n",
    "    # Test 데이터셋 로드\n",
    "    test_dataset = FruitDataset(test_dir, transforms=transform_test)\n",
    "    test_loader = DataLoader(test_dataset, batch_size=batch_size, shuffle=False, num_workers=num_workers)\n",
    "\n",
    "    return train_loader, val_loader, test_loader\n",
    "\n",
    "# EfficientNet-B0 모델 초기화\n",
    "def get_model(num_classes):\n",
    "    model = efficientnet_b0(pretrained=True)\n",
    "    \n",
    "    # Freeze all layers except the classifier\n",
    "    for param in model.parameters():\n",
    "        param.requires_grad = False\n",
    "\n",
    "    # Replace classifier layer\n",
    "    model.classifier[1] = torch.nn.Linear(model.classifier[1].in_features, num_classes)\n",
    "    return model\n",
    "\n",
    "# 학습 함수\n",
    "def train_one_epoch(model, optimizer, data_loader, device):\n",
    "    model.train()\n",
    "    total_loss = 0\n",
    "    correct = 0\n",
    "    total = 0\n",
    "\n",
    "    loop = tqdm(data_loader, desc=\"Training\", leave=True)\n",
    "    for batch_idx, (images, labels) in enumerate(loop):\n",
    "        images, labels = images.to(device), labels.to(device)\n",
    "\n",
    "        optimizer.zero_grad()\n",
    "        outputs = model(images)\n",
    "        loss = torch.nn.CrossEntropyLoss()(outputs, labels)\n",
    "        loss.backward()\n",
    "        optimizer.step()\n",
    "\n",
    "        total_loss += loss.item()\n",
    "        _, preds = torch.max(outputs, 1)\n",
    "        correct += (preds == labels).sum().item()\n",
    "        total += labels.size(0)\n",
    "\n",
    "        loop.set_postfix(loss=loss.item(), accuracy=correct / total)\n",
    "\n",
    "    accuracy = correct / total\n",
    "    return total_loss / len(data_loader), accuracy\n",
    "\n",
    "# 평가 함수\n",
    "def evaluate(model, data_loader, device):\n",
    "    model.eval()\n",
    "    total_loss = 0\n",
    "    correct = 0\n",
    "    total = 0\n",
    "\n",
    "    with torch.no_grad():\n",
    "        for images, labels in data_loader:\n",
    "            images, labels = images.to(device), labels.to(device)\n",
    "            outputs = model(images)\n",
    "            loss = torch.nn.CrossEntropyLoss()(outputs, labels)\n",
    "\n",
    "            total_loss += loss.item()\n",
    "            _, preds = torch.max(outputs, 1)\n",
    "            correct += (preds == labels).sum().item()\n",
    "            total += labels.size(0)\n",
    "\n",
    "    accuracy = correct / total\n",
    "    return total_loss / len(data_loader), accuracy\n",
    "\n",
    "# 메인 실행 수정\n",
    "if __name__ == \"__main__\":\n",
    "    train_loader, val_loader, test_loader = get_data_loaders()\n",
    "    device = torch.device(\"cuda\" if torch.cuda.is_available() else \"cpu\")\n",
    "    model = get_model(num_classes=3).to(device)\n",
    "\n",
    "    # 옵티마이저 설정\n",
    "    optimizer = SGD(model.classifier[1].parameters(), lr=0.001, momentum=0.9)\n",
    "\n",
    "    # 모델 저장 관련 설정\n",
    "    best_accuracy = 0\n",
    "    best_model_path = \"EfficientNet_best_model_checkpoint.pth\"\n",
    "\n",
    "    num_epochs = 10\n",
    "    for epoch in range(num_epochs):\n",
    "        print(f\"Epoch {epoch + 1}/{num_epochs}\")\n",
    "        train_loss, train_accuracy = train_one_epoch(model, optimizer, train_loader, device)\n",
    "        val_loss, val_accuracy = evaluate(model, val_loader, device)\n",
    "\n",
    "        # 성능 개선 시 모델 저장\n",
    "        if val_accuracy > best_accuracy:\n",
    "            best_accuracy = val_accuracy\n",
    "            torch.save(model.state_dict(), best_model_path)\n",
    "            print(f\"Saved Best Model at Epoch {epoch + 1}\")\n",
    "\n",
    "        # WandB 로깅\n",
    "        wandb.log({\n",
    "            \"train_loss\": train_loss,\n",
    "            \"train_accuracy\": train_accuracy,\n",
    "            \"val_loss\": val_loss,\n",
    "            \"val_accuracy\": val_accuracy\n",
    "        }, step=epoch)\n",
    "\n",
    "    wandb.finish()"
   ]
  },
  {
   "cell_type": "markdown",
   "id": "53e18b51-4e8d-4c4f-96bd-09766288a5c1",
   "metadata": {},
   "source": [
    "# 모델 성능 평가"
   ]
  },
  {
   "cell_type": "code",
   "execution_count": 15,
   "id": "caf16ee9-3e6b-4313-8eb7-7f22c5be5fce",
   "metadata": {},
   "outputs": [
    {
     "name": "stdout",
     "output_type": "stream",
     "text": [
      "Test Loss: 0.5727\n",
      "Test Accuracy: 76.03%\n",
      "Confusion Matrix:\n",
      " [[239  13  38]\n",
      " [  0 200   0]\n",
      " [ 63  73 154]]\n"
     ]
    },
    {
     "data": {
      "image/png": "[encoded data removed]",
      "text/plain": [
       "<Figure size 800x600 with 2 Axes>"
      ]
     },
     "metadata": {},
     "output_type": "display_data"
    },
    {
     "name": "stdout",
     "output_type": "stream",
     "text": [
      "\n",
      "Classification Report:\n",
      "               precision    recall  f1-score   support\n",
      "\n",
      "       Apple       0.79      0.82      0.81       290\n",
      "      Banana       0.70      1.00      0.82       200\n",
      "      Orange       0.80      0.53      0.64       290\n",
      "\n",
      "    accuracy                           0.76       780\n",
      "   macro avg       0.76      0.79      0.76       780\n",
      "weighted avg       0.77      0.76      0.75       780\n",
      "\n"
     ]
    }
   ],
   "source": [
    "# Confusion Matrix 및 테스트 평가\n",
    "from sklearn.metrics import confusion_matrix, classification_report\n",
    "import seaborn as sns\n",
    "import matplotlib.pyplot as plt\n",
    "\n",
    "# 테스트 설정\n",
    "def test_model(model_path, test_loader, device):\n",
    "    # 모델 로드\n",
    "    model = get_model(num_classes=3).to(device)\n",
    "    model.load_state_dict(torch.load(model_path))\n",
    "    model.eval()\n",
    "\n",
    "    # 테스트 데이터 평가\n",
    "    test_loss, test_accuracy, test_preds, test_labels = evaluate_with_predictions(model, test_loader, device)\n",
    "    print(f\"Test Loss: {test_loss:.4f}\")\n",
    "    print(f\"Test Accuracy: {test_accuracy * 100:.2f}%\")\n",
    "\n",
    "    # Confusion Matrix 출력\n",
    "    conf_matrix = confusion_matrix(test_labels, test_preds)\n",
    "    print(\"Confusion Matrix:\\n\", conf_matrix)\n",
    "\n",
    "    # Confusion Matrix 시각화\n",
    "    plt.figure(figsize=(8, 6))\n",
    "    sns.heatmap(conf_matrix, annot=True, fmt='d', cmap='Blues', xticklabels=[\"Apple\", \"Banana\", \"Orange\"], yticklabels=[\"Apple\", \"Banana\", \"Orange\"])\n",
    "    plt.xlabel(\"Predicted\")\n",
    "    plt.ylabel(\"Actual\")\n",
    "    plt.title(\"Confusion Matrix\")\n",
    "    plt.show()\n",
    "\n",
    "    # Classification Report 출력\n",
    "    print(\"\\nClassification Report:\\n\", classification_report(test_labels, test_preds, target_names=[\"Apple\", \"Banana\", \"Orange\"]))\n",
    "\n",
    "# 예측 포함 평가 함수\n",
    "def evaluate_with_predictions(model, data_loader, device):\n",
    "    model.eval()\n",
    "    total_loss = 0\n",
    "    correct = 0\n",
    "    total = 0\n",
    "    all_preds = []\n",
    "    all_labels = []\n",
    "\n",
    "    with torch.no_grad():\n",
    "        for images, labels in data_loader:\n",
    "            images, labels = images.to(device), labels.to(device)\n",
    "            outputs = model(images)\n",
    "            loss = torch.nn.CrossEntropyLoss()(outputs, labels)\n",
    "\n",
    "            total_loss += loss.item()\n",
    "            _, preds = torch.max(outputs, 1)\n",
    "            correct += (preds == labels).sum().item()\n",
    "            total += labels.size(0)\n",
    "\n",
    "            all_preds.extend(preds.cpu().numpy())\n",
    "            all_labels.extend(labels.cpu().numpy())\n",
    "\n",
    "    accuracy = correct / total\n",
    "    return total_loss / len(data_loader), accuracy, all_preds, all_labels\n",
    "\n",
    "# 모델 테스트 실행\n",
    "if __name__ == \"__main__\":\n",
    "    test_model(\"EfficientNet_best_model_checkpoint.pth\", test_loader, device)"
   ]
  }
 ],
 "metadata": {
  "kernelspec": {
   "display_name": "Python 3 (ipykernel)",
   "language": "python",
   "name": "python3"
  },
  "language_info": {
   "codemirror_mode": {
    "name": "ipython",
    "version": 3
   },
   "file_extension": ".py",
   "mimetype": "text/x-python",
   "name": "python",
   "nbconvert_exporter": "python",
   "pygments_lexer": "ipython3",
   "version": "3.11.9"
  }
 },
 "nbformat": 4,
 "nbformat_minor": 5
}
