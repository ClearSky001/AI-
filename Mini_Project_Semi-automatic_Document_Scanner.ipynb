{
 "cells": [
  {
   "cell_type": "markdown",
   "id": "abce062a",
   "metadata": {},
   "source": [
    "# 미니 프로젝트 : 반자동 문서 스캐너"
   ]
  },
  {
   "cell_type": "markdown",
   "id": "a1b446c9",
   "metadata": {},
   "source": [
    "## 마우스 이벤트 등록"
   ]
  },
  {
   "cell_type": "code",
   "execution_count": 13,
   "id": "c5b6cdde",
   "metadata": {},
   "outputs": [
    {
     "name": "stdout",
     "output_type": "stream",
     "text": [
      "왼쪽 버튼 Down\n",
      "789 452\n",
      "왼쪽 버튼 Up\n",
      "789 452\n"
     ]
    }
   ],
   "source": [
    "import cv2\n",
    "\n",
    "def mouse_handler(event,x,y,flags,param):\n",
    "    if event==cv2.EVENT_LBUTTONDOWN: # 마우스 왼쪽 버튼 Down\n",
    "        print('왼쪽 버튼 Down')\n",
    "        print(x,y)\n",
    "    elif event==cv2.EVENT_LBUTTONUP: # 마우스 왼쪽 버튼 Up\n",
    "        print('왼쪽 버튼 Up')\n",
    "        print(x,y)\n",
    "    elif event==cv2.EVENT_LBUTTONDBLCLK: # 마우스 왼쪽 버튼 더블 클릭\n",
    "        print('왼쪽 버튼 Double Click')\n",
    "    elif event==cv2.EVENT_RBUTTONDOWN: # 마우스 오른쪽 버튼 Down\n",
    "        print('오른쪽 버튼 Down')\n",
    "        print(x,y)\n",
    "    elif event==cv2.EVENT_RBUTTONUP: # 마우스 오른쪽 버튼 UP\n",
    "        print('오른쪽 버튼 Up')\n",
    "        print(x,y)\n",
    "\n",
    "img=cv2.imread('poker.jpg')\n",
    "cv2.namedWindow('img') # img란 이름의 창을 먼저 만듦. 여기에 마우스 이벤트를 처리하기 위한 핸들러 적용\n",
    "cv2.setMouseCallback('img',mouse_handler)\n",
    "\n",
    "cv2.imshow('img',img)\n",
    "\n",
    "cv2.waitKey(0)\n",
    "cv2.destroyAllWindows()"
   ]
  },
  {
   "cell_type": "markdown",
   "id": "877fb0f7",
   "metadata": {},
   "source": [
    "# 기본 코드"
   ]
  },
  {
   "cell_type": "code",
   "execution_count": 14,
   "id": "f942bcbc",
   "metadata": {},
   "outputs": [],
   "source": [
    "import cv2\n",
    "import numpy as np\n",
    "\n",
    "src_img=cv2.imread('poker.jpg')\n",
    "\n",
    "point_list=[]\n",
    "\n",
    "COLOR=(255,0,255) # 핑크\n",
    "\n",
    "def mouse_handler(event,x,y,flags,param):\n",
    "    if event==cv2.EVENT_LBUTTONDOWN: # 마우스 왼쪽 버튼 Down\n",
    "        point_list.append((x,y))\n",
    "    \n",
    "    for point in point_list:\n",
    "        cv2.circle(src_img,point,15,COLOR,cv2.FILLED)\n",
    "        \n",
    "    if len(point_list)==4:\n",
    "        show_result() # 결과 출력\n",
    "        \n",
    "    cv2.imshow('img',src_img)\n",
    "    \n",
    "def show_result():\n",
    "    width,height=530,710 # 가로 크기 640, 세로 크기 240으로 결과물 출력\n",
    "\n",
    "    img_points=np.float32(point_list) # input 4개 지점\n",
    "    img_output=np.array([[0,0],[width,0],[width,height],[0,height]],dtype=np.float32) # output 4개 지점\n",
    "\n",
    "    matrix=cv2.getPerspectiveTransform(img_points,img_output) # Matrix 얻어옴\n",
    "    result=cv2.warpPerspective(src_img,matrix,(width,height)) # Matrix대로 변환함\n",
    "    cv2.imshow('result',result)\n",
    "    \n",
    "\n",
    "cv2.namedWindow('img') # img란 이름의 창을 먼저 만듦. 여기에 마우스 이벤트를 처리하기 위한 핸들러 적용\n",
    "cv2.setMouseCallback('img',mouse_handler)\n",
    "\n",
    "cv2.imshow('img',src_img)\n",
    "\n",
    "cv2.waitKey(0)\n",
    "cv2.destroyAllWindows()"
   ]
  },
  {
   "cell_type": "markdown",
   "id": "286a3c7e",
   "metadata": {},
   "source": [
    "## 지점 선 긋기"
   ]
  },
  {
   "cell_type": "code",
   "execution_count": 20,
   "id": "e8f44931",
   "metadata": {},
   "outputs": [],
   "source": [
    "import cv2\n",
    "import numpy as np\n",
    "\n",
    "src_img=cv2.imread('poker.jpg')\n",
    "\n",
    "point_list=[]\n",
    "\n",
    "COLOR=(255,0,255) # 핑크\n",
    "THICKNESS=3\n",
    "drawing=False # 선을 그릴지 여부\n",
    "\n",
    "def mouse_handler(event,x,y,flags,param):\n",
    "    global drawing\n",
    "    \n",
    "    if event==cv2.EVENT_LBUTTONDOWN: # 마우스 왼쪽 버튼 Down\n",
    "        drawing=True # 선을 그리기 시작\n",
    "        point_list.append((x,y))\n",
    "    \n",
    "    if drawing:\n",
    "        prev_point=None # 직선의 시작점\n",
    "        for point in point_list:\n",
    "            cv2.circle(src_img,point,15,COLOR,cv2.FILLED)\n",
    "            if prev_point:\n",
    "                cv2.line(src_img,prev_point,point,COLOR,THICKNESS,cv2.LINE_AA)\n",
    "            prev_point=point\n",
    "        \n",
    "    if len(point_list)==4:\n",
    "        show_result() # 결과 출력\n",
    "        \n",
    "    cv2.imshow('img',src_img)\n",
    "    \n",
    "def show_result():\n",
    "    width,height=530,710 # 가로 크기 640, 세로 크기 240으로 결과물 출력\n",
    "\n",
    "    img_points=np.float32(point_list) # input 4개 지점\n",
    "    img_output=np.array([[0,0],[width,0],[width,height],[0,height]],dtype=np.float32) # output 4개 지점\n",
    "\n",
    "    matrix=cv2.getPerspectiveTransform(img_points,img_output) # Matrix 얻어옴\n",
    "    result=cv2.warpPerspective(src_img,matrix,(width,height)) # Matrix대로 변환함\n",
    "    cv2.imshow('result',result)\n",
    "    \n",
    "\n",
    "cv2.namedWindow('img') # img란 이름의 창을 먼저 만듦. 여기에 마우스 이벤트를 처리하기 위한 핸들러 적용\n",
    "cv2.setMouseCallback('img',mouse_handler)\n",
    "\n",
    "cv2.imshow('img',src_img)\n",
    "\n",
    "cv2.waitKey(0)\n",
    "cv2.destroyAllWindows()"
   ]
  },
  {
   "cell_type": "markdown",
   "id": "c6b349b0",
   "metadata": {},
   "source": [
    "## 실시간 선 긋기"
   ]
  },
  {
   "cell_type": "code",
   "execution_count": 22,
   "id": "33662860",
   "metadata": {},
   "outputs": [],
   "source": [
    "import cv2\n",
    "import numpy as np\n",
    "\n",
    "src_img=cv2.imread('poker.jpg') # 이미지 불러옴\n",
    "\n",
    "point_list=[] # 빈 리스트 생성\n",
    "\n",
    "COLOR=(255,0,255) # 핑크\n",
    "THICKNESS=3\n",
    "drawing=False # 선을 그릴지 여부\n",
    "\n",
    "# 마우스 이벤트 핸들러\n",
    "def mouse_handler(event,x,y,flags,param):\n",
    "    global drawing\n",
    "    dst_img=src_img.copy() # 원본 이미지 복사하여 dst_img에 저장\n",
    "    \n",
    "    if event==cv2.EVENT_LBUTTONDOWN: # 마우스 왼쪽 버튼 클릭시\n",
    "        drawing=True # 선을 그리기 시작\n",
    "        point_list.append((x,y)) # 클릭한 좌표를 리스트에 추가\n",
    "    \n",
    "    if drawing:\n",
    "        prev_point=None # 직선의 시작점\n",
    "        for point in point_list:\n",
    "            cv2.circle(dst_img,point,15,COLOR,cv2.FILLED) # 클릭한 위치에 원 그리기\n",
    "            if prev_point:\n",
    "                cv2.line(dst_img,prev_point,point,COLOR,THICKNESS,cv2.LINE_AA) # 이전 점과 현재 점을 연결하는 선 그리기\n",
    "            prev_point=point\n",
    "        \n",
    "        next_point=(x,y)\n",
    "        if len(point_list)==4:\n",
    "            show_result() # 포인트가 4개가 되면 결과 출력\n",
    "            next_point=point_list[0] # 첫 번째 클릭한 지점으로 닫기\n",
    "            \n",
    "        cv2.line(dst_img,prev_point,next_point,COLOR,THICKNESS,cv2.LINE_AA) # 현재 마우스 위치와 마지막 점을 연결하는 선 그리기\n",
    "        \n",
    "    cv2.imshow('img',dst_img)\n",
    "    \n",
    "def show_result():\n",
    "    width,height=530,710 # 가로 크기 640, 세로 크기 240으로 결과물 출력\n",
    "\n",
    "    img_points=np.float32(point_list) # 입력 포인트 (마우스로 클릭한 4개의 지점)\n",
    "    img_output=np.array([[0,0],[width,0],[width,height],[0,height]],dtype=np.float32) # output 4개 지점\n",
    "\n",
    "    matrix=cv2.getPerspectiveTransform(img_points,img_output) # Matrix 얻어옴\n",
    "    result=cv2.warpPerspective(src_img,matrix,(width,height)) # Matrix대로 변환함\n",
    "    cv2.imshow('result',result)\n",
    "    \n",
    "\n",
    "cv2.namedWindow('img') # img란 이름의 창을 먼저 만듦. 여기에 마우스 이벤트를 처리하기 위한 핸들러 적용\n",
    "cv2.setMouseCallback('img',mouse_handler)\n",
    "\n",
    "cv2.imshow('img',src_img)\n",
    "\n",
    "cv2.waitKey(0)\n",
    "cv2.destroyAllWindows()"
   ]
  }
 ],
 "metadata": {
  "kernelspec": {
   "display_name": "Python 3 (ipykernel)",
   "language": "python",
   "name": "python3"
  },
  "language_info": {
   "codemirror_mode": {
    "name": "ipython",
    "version": 3
   },
   "file_extension": ".py",
   "mimetype": "text/x-python",
   "name": "python",
   "nbconvert_exporter": "python",
   "pygments_lexer": "ipython3",
   "version": "3.11.9"
  },
  "toc": {
   "base_numbering": 1,
   "nav_menu": {},
   "number_sections": true,
   "sideBar": true,
   "skip_h1_title": false,
   "title_cell": "Table of Contents",
   "title_sidebar": "Contents",
   "toc_cell": false,
   "toc_position": {
    "height": "calc(100% - 180px)",
    "left": "10px",
    "top": "150px",
    "width": "310.417px"
   },
   "toc_section_display": true,
   "toc_window_display": false
  },
  "varInspector": {
   "cols": {
    "lenName": 16,
    "lenType": 16,
    "lenVar": 40
   },
   "kernels_config": {
    "python": {
     "delete_cmd_postfix": "",
     "delete_cmd_prefix": "del ",
     "library": "var_list.py",
     "varRefreshCmd": "print(var_dic_list())"
    },
    "r": {
     "delete_cmd_postfix": ") ",
     "delete_cmd_prefix": "rm(",
     "library": "var_list.r",
     "varRefreshCmd": "cat(var_dic_list()) "
    }
   },
   "types_to_exclude": [
    "module",
    "function",
    "builtin_function_or_method",
    "instance",
    "_Feature"
   ],
   "window_display": false
  }
 },
 "nbformat": 4,
 "nbformat_minor": 5
}
