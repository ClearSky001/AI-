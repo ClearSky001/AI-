{
 "cells": [
  {
   "cell_type": "markdown",
   "id": "abce062a",
   "metadata": {},
   "source": [
    "# 미니 프로젝트 : 반자동 문서 스캐너"
   ]
  },
  {
   "cell_type": "markdown",
   "id": "a1b446c9",
   "metadata": {},
   "source": [
    "## 마우스 이벤트 등록"
   ]
  },
  {
   "cell_type": "code",
   "execution_count": 5,
   "id": "c5b6cdde",
   "metadata": {},
   "outputs": [
    {
     "name": "stdout",
     "output_type": "stream",
     "text": [
      "오른쪽 버튼 Down\n",
      "588 449\n",
      "오른쪽 버튼 Up\n",
      "588 449\n",
      "왼쪽 버튼 Down\n",
      "539 626\n",
      "왼쪽 버튼 Up\n",
      "539 626\n",
      "왼쪽 버튼 Double Click\n",
      "왼쪽 버튼 Up\n",
      "539 626\n",
      "왼쪽 버튼 Down\n",
      "743 557\n",
      "왼쪽 버튼 Up\n",
      "743 557\n"
     ]
    }
   ],
   "source": [
    "import cv2\n",
    "\n",
    "def mouse_handler(event,x,y,flags,param):\n",
    "    if event==cv2.EVENT_LBUTTONDOWN: # 마우스 왼쪽 버튼 Down\n",
    "        print('왼쪽 버튼 Down')\n",
    "        print(x,y)\n",
    "    elif event==cv2.EVENT_LBUTTONUP: # 마우스 왼쪽 버튼 Up\n",
    "        print('왼쪽 버튼 Up')\n",
    "        print(x,y)\n",
    "    elif event==cv2.EVENT_LBUTTONDBLCLK: # 마우스 왼쪽 버튼 더블 클릭\n",
    "        print('왼쪽 버튼 Double Click')\n",
    "    elif event==cv2.EVENT_RBUTTONDOWN: # 마우스 오른쪽 버튼 Down\n",
    "        print('오른쪽 버튼 Down')\n",
    "        print(x,y)\n",
    "    elif event==cv2.EVENT_RBUTTONUP: # 마우스 오른쪽 버튼 UP\n",
    "        print('오른쪽 버튼 Up')\n",
    "        print(x,y)\n",
    "\n",
    "img=cv2.imread('poker.jpg')\n",
    "cv2.namedWindow('img') # img란 이름의 창을 먼저 만듦. 여기에 마우스 이벤트를 처리하기 위한 핸들러 적용\n",
    "cv2.setMouseCallback('img',mouse_handler)\n",
    "\n",
    "cv2.imshow('img',img)\n",
    "\n",
    "cv2.waitKey(0)\n",
    "cv2.destroyAllWindows()"
   ]
  },
  {
   "cell_type": "code",
   "execution_count": null,
   "id": "fd626280",
   "metadata": {},
   "outputs": [],
   "source": []
  },
  {
   "cell_type": "code",
   "execution_count": null,
   "id": "78cb2e3e",
   "metadata": {},
   "outputs": [],
   "source": []
  },
  {
   "cell_type": "code",
   "execution_count": null,
   "id": "6ddcf199",
   "metadata": {},
   "outputs": [],
   "source": []
  },
  {
   "cell_type": "code",
   "execution_count": null,
   "id": "4a724ecc",
   "metadata": {},
   "outputs": [],
   "source": []
  }
 ],
 "metadata": {
  "kernelspec": {
   "display_name": "Python 3 (ipykernel)",
   "language": "python",
   "name": "python3"
  },
  "language_info": {
   "codemirror_mode": {
    "name": "ipython",
    "version": 3
   },
   "file_extension": ".py",
   "mimetype": "text/x-python",
   "name": "python",
   "nbconvert_exporter": "python",
   "pygments_lexer": "ipython3",
   "version": "3.11.9"
  },
  "toc": {
   "base_numbering": 1,
   "nav_menu": {},
   "number_sections": true,
   "sideBar": true,
   "skip_h1_title": false,
   "title_cell": "Table of Contents",
   "title_sidebar": "Contents",
   "toc_cell": false,
   "toc_position": {
    "height": "calc(100% - 180px)",
    "left": "10px",
    "top": "150px",
    "width": "310.417px"
   },
   "toc_section_display": true,
   "toc_window_display": false
  },
  "varInspector": {
   "cols": {
    "lenName": 16,
    "lenType": 16,
    "lenVar": 40
   },
   "kernels_config": {
    "python": {
     "delete_cmd_postfix": "",
     "delete_cmd_prefix": "del ",
     "library": "var_list.py",
     "varRefreshCmd": "print(var_dic_list())"
    },
    "r": {
     "delete_cmd_postfix": ") ",
     "delete_cmd_prefix": "rm(",
     "library": "var_list.r",
     "varRefreshCmd": "cat(var_dic_list()) "
    }
   },
   "types_to_exclude": [
    "module",
    "function",
    "builtin_function_or_method",
    "instance",
    "_Feature"
   ],
   "window_display": false
  }
 },
 "nbformat": 4,
 "nbformat_minor": 5
}
