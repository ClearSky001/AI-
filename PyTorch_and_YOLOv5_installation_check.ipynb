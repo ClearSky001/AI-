{
 "cells": [
  {
   "cell_type": "markdown",
   "id": "7d13fe0c",
   "metadata": {},
   "source": [
    "# OpenCV 버전 재확인"
   ]
  },
  {
   "cell_type": "code",
   "execution_count": 1,
   "id": "1e4c5298",
   "metadata": {},
   "outputs": [
    {
     "name": "stdout",
     "output_type": "stream",
     "text": [
      "OpenCV version :  4.8.1\n"
     ]
    }
   ],
   "source": [
    "import cv2\n",
    "print(\"OpenCV version : \",cv2.__version__)"
   ]
  },
  {
   "cell_type": "markdown",
   "id": "de71d1e4",
   "metadata": {},
   "source": [
    "# PyTorch & YOLOv5 버전 확인"
   ]
  },
  {
   "cell_type": "code",
   "execution_count": 2,
   "id": "83c6475f",
   "metadata": {},
   "outputs": [
    {
     "name": "stdout",
     "output_type": "stream",
     "text": [
      "PyTorch version :  2.3.1+cpu\n",
      "YOLOv5 is installed successfully!\n"
     ]
    }
   ],
   "source": [
    "import torch\n",
    "print(\"PyTorch version : \",torch.__version__)\n",
    "\n",
    "try:\n",
    "    from yolov5 import YOLOv5\n",
    "    print(\"YOLOv5 is installed successfully!\")\n",
    "    \n",
    "except ImportError:\n",
    "    print(\"YOLOv5 is not installed.\")"
   ]
  },
  {
   "cell_type": "code",
   "execution_count": null,
   "id": "1a5eb34a",
   "metadata": {},
   "outputs": [],
   "source": []
  }
 ],
 "metadata": {
  "kernelspec": {
   "display_name": "Python 3 (ipykernel)",
   "language": "python",
   "name": "python3"
  },
  "language_info": {
   "codemirror_mode": {
    "name": "ipython",
    "version": 3
   },
   "file_extension": ".py",
   "mimetype": "text/x-python",
   "name": "python",
   "nbconvert_exporter": "python",
   "pygments_lexer": "ipython3",
   "version": "3.11.9"
  },
  "toc": {
   "base_numbering": 1,
   "nav_menu": {},
   "number_sections": true,
   "sideBar": true,
   "skip_h1_title": false,
   "title_cell": "Table of Contents",
   "title_sidebar": "Contents",
   "toc_cell": false,
   "toc_position": {
    "height": "calc(100% - 180px)",
    "left": "10px",
    "top": "150px",
    "width": "310.417px"
   },
   "toc_section_display": true,
   "toc_window_display": false
  },
  "varInspector": {
   "cols": {
    "lenName": 16,
    "lenType": 16,
    "lenVar": 40
   },
   "kernels_config": {
    "python": {
     "delete_cmd_postfix": "",
     "delete_cmd_prefix": "del ",
     "library": "var_list.py",
     "varRefreshCmd": "print(var_dic_list())"
    },
    "r": {
     "delete_cmd_postfix": ") ",
     "delete_cmd_prefix": "rm(",
     "library": "var_list.r",
     "varRefreshCmd": "cat(var_dic_list()) "
    }
   },
   "types_to_exclude": [
    "module",
    "function",
    "builtin_function_or_method",
    "instance",
    "_Feature"
   ],
   "window_display": false
  }
 },
 "nbformat": 4,
 "nbformat_minor": 5
}
