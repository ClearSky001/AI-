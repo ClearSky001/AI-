{
 "cells": [
  {
   "cell_type": "markdown",
   "id": "592e2d2d",
   "metadata": {},
   "source": [
    "# 환경 설정\n",
    "Anaconda Prompt에서 다음 명령 수행\n",
    "> pip install opencv-python\n",
    "\n",
    "> pip install opencv-python-headless # 실행했더니 에러발생..\n",
    "\n",
    "> pip install opencv-contrib-python # 현재까지는 작동중.."
   ]
  },
  {
   "cell_type": "code",
   "execution_count": 12,
   "id": "0816a63f",
   "metadata": {},
   "outputs": [
    {
     "data": {
      "text/plain": [
       "'4.9.0'"
      ]
     },
     "execution_count": 12,
     "metadata": {},
     "output_type": "execute_result"
    }
   ],
   "source": [
    "# opencv의 버전확인 체크함으로써 잘 설치되어 있는지 확인\n",
    "import cv2\n",
    "cv2.__version__"
   ]
  },
  {
   "cell_type": "markdown",
   "id": "bb15d165",
   "metadata": {},
   "source": [
    "# 1. 이미지 출력\n",
    "이미지가 새로운 창에 나타남"
   ]
  },
  {
   "cell_type": "code",
   "execution_count": 19,
   "id": "f0bbc8aa",
   "metadata": {},
   "outputs": [],
   "source": [
    "import cv2\n",
    "\n",
    "img=cv2.imread('img.jpg') # 해당 경로의 파일 읽어오기\n",
    "cv2.imshow('img',img) # img라는 이름의 창에 img 표시\n",
    "\n",
    "cv2.waitKey(0) # 지정된 시간동안 사용자 키 입력 대기 // waitKey()에 숫자를 입력하면 그 시간(단위는 밀리초) 동안 창이 열려 있다가 자동으로 닫힘\n",
    "cv2.destroyAllWindows() # 모든 창 닫기"
   ]
  },
  {
   "cell_type": "markdown",
   "id": "70b8449c",
   "metadata": {},
   "source": [
    "## 이미지 출력하는 다른 방법"
   ]
  },
  {
   "cell_type": "code",
   "execution_count": 21,
   "id": "1582400a",
   "metadata": {},
   "outputs": [],
   "source": [
    "import cv2\n",
    "import os\n",
    "\n",
    "# 이미지 파일 경로를 절대 경로로 설정\n",
    "#image_path = \"C:\\\\Users\\\\JSY\\\\Pictures\\\\image.jpg\"\n",
    "\n",
    "# 이미지 읽기\n",
    "img = cv2.imread('img.jpg')\n",
    "\n",
    "# 이미지가 제대로 로드되었는지 확인\n",
    "if img is not None:\n",
    "    cv2.imshow('img', img)\n",
    "    cv2.waitKey(0)\n",
    "    cv2.destroyAllWindows()\n",
    "else:\n",
    "    print(f\"이미지를 찾을 수 없습니다. 경로를 확인하세요: {image_path}\")\n",
    "    print(f\"현재 작업 디렉토리: {os.getcwd()}\")\n",
    "    print(f\"파일 존재 여부: {os.path.exists(image_path)}\")"
   ]
  },
  {
   "cell_type": "markdown",
   "id": "1764ea0f",
   "metadata": {},
   "source": [
    "## 읽기 옵션\n",
    "1. cv2.IMREAD_COLOR : 컬러 이미지, 투명 영역은 무시(기본값)\n",
    "1. cv2.IMREAD_GRAYSCALE : 흑백 이미지\n",
    "1. cv2.IMREAD_UNCHANGED : 투명 영역까지 포함"
   ]
  },
  {
   "cell_type": "code",
   "execution_count": 22,
   "id": "5d08289c",
   "metadata": {},
   "outputs": [],
   "source": [
    "import cv2\n",
    "\n",
    "img_color=cv2.imread('img.jpg',cv2.IMREAD_COLOR)\n",
    "img_gray=cv2.imread('img.jpg',cv2.IMREAD_GRAYSCALE)\n",
    "img_unchanged=cv2.imread('img.jpg',cv2.IMREAD_UNCHANGED)\n",
    "\n",
    "cv2.imshow('img_color',img_color)\n",
    "cv2.imshow('img_gray',img_gray)\n",
    "cv2.imshow('img_unchanged',img_unchanged)\n",
    "\n",
    "cv2.waitKey() # 지정된 시간동안 사용자 키 입력 대기 // waitKey()에 숫자를 입력하면 그 시간(단위는 밀리초) 동안 창이 열려 있다가 자동으로 닫힘\n",
    "cv2.destroyAllWindows() # 모든 창 닫기"
   ]
  },
  {
   "cell_type": "markdown",
   "id": "edb9a56b",
   "metadata": {},
   "source": [
    "# shape\n",
    "이미지의 height, width, channel 정보"
   ]
  },
  {
   "cell_type": "code",
   "execution_count": 23,
   "id": "f25aa70c",
   "metadata": {
    "scrolled": true
   },
   "outputs": [
    {
     "data": {
      "text/plain": [
       "(427, 640, 3)"
      ]
     },
     "execution_count": 23,
     "metadata": {},
     "output_type": "execute_result"
    }
   ],
   "source": [
    "import cv2\n",
    "\n",
    "img=cv2.imread('img.jpg')\n",
    "img.shape # 세로, 가로, channel"
   ]
  }
 ],
 "metadata": {
  "kernelspec": {
   "display_name": "Python 3 (ipykernel)",
   "language": "python",
   "name": "python3"
  },
  "language_info": {
   "codemirror_mode": {
    "name": "ipython",
    "version": 3
   },
   "file_extension": ".py",
   "mimetype": "text/x-python",
   "name": "python",
   "nbconvert_exporter": "python",
   "pygments_lexer": "ipython3",
   "version": "3.11.7"
  },
  "toc": {
   "base_numbering": 1,
   "nav_menu": {},
   "number_sections": true,
   "sideBar": true,
   "skip_h1_title": false,
   "title_cell": "Table of Contents",
   "title_sidebar": "Contents",
   "toc_cell": false,
   "toc_position": {
    "height": "calc(100% - 180px)",
    "left": "10px",
    "top": "150px",
    "width": "310.417px"
   },
   "toc_section_display": true,
   "toc_window_display": false
  },
  "varInspector": {
   "cols": {
    "lenName": 16,
    "lenType": 16,
    "lenVar": 40
   },
   "kernels_config": {
    "python": {
     "delete_cmd_postfix": "",
     "delete_cmd_prefix": "del ",
     "library": "var_list.py",
     "varRefreshCmd": "print(var_dic_list())"
    },
    "r": {
     "delete_cmd_postfix": ") ",
     "delete_cmd_prefix": "rm(",
     "library": "var_list.r",
     "varRefreshCmd": "cat(var_dic_list()) "
    }
   },
   "types_to_exclude": [
    "module",
    "function",
    "builtin_function_or_method",
    "instance",
    "_Feature"
   ],
   "window_display": false
  }
 },
 "nbformat": 4,
 "nbformat_minor": 5
}
