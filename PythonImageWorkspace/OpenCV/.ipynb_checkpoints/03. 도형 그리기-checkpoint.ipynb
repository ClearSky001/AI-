{
 "cells": [
  {
   "cell_type": "markdown",
   "id": "e9413e9d",
   "metadata": {},
   "source": [
    "# 도형 그리기"
   ]
  },
  {
   "cell_type": "markdown",
   "id": "7ae419e6",
   "metadata": {},
   "source": [
    "## 빈 스케치북 만들기\n",
    "np.zeros((480,640,3), dtype=np.uint8)의 의미\n",
    "np.zeros((480, 640, 3), dtype=np.uint8)은 3차원 배열을 생성하는 코드.\n",
    "\n",
    "1. 형태(shape) : (480,640,3)\n",
    "(1) 이 배열은 480개의 행과 640개의 열을 가지며, 각 요소는 3개의 값을 포함하는 3차원 배열.\n",
    "(2) 주로 이미지 데이터에서 많이 사용되며, 여기서 480은 이미지의 높이(height), 640은 이미지의 너비(width), 3은 RGB 색상 채널을 의미.\n",
    "\n",
    "2. 데이터 유형(dtype): np.uint8\n",
    "(1) 배열의 요소들은 8비트 부호 없는 정수(unsigned 8-bit integer)로 저장. uint8는 0에서 255 사이의 값을 가질 수 있으며, 이는 픽셀 값을 표현하기에 적합함."
   ]
  },
  {
   "cell_type": "code",
   "execution_count": 11,
   "id": "3f3e3870",
   "metadata": {
    "scrolled": true
   },
   "outputs": [
    {
     "name": "stdout",
     "output_type": "stream",
     "text": [
      "[[[0 0 0]\n",
      "  [0 0 0]\n",
      "  [0 0 0]\n",
      "  ...\n",
      "  [0 0 0]\n",
      "  [0 0 0]\n",
      "  [0 0 0]]\n",
      "\n",
      " [[0 0 0]\n",
      "  [0 0 0]\n",
      "  [0 0 0]\n",
      "  ...\n",
      "  [0 0 0]\n",
      "  [0 0 0]\n",
      "  [0 0 0]]\n",
      "\n",
      " [[0 0 0]\n",
      "  [0 0 0]\n",
      "  [0 0 0]\n",
      "  ...\n",
      "  [0 0 0]\n",
      "  [0 0 0]\n",
      "  [0 0 0]]\n",
      "\n",
      " ...\n",
      "\n",
      " [[0 0 0]\n",
      "  [0 0 0]\n",
      "  [0 0 0]\n",
      "  ...\n",
      "  [0 0 0]\n",
      "  [0 0 0]\n",
      "  [0 0 0]]\n",
      "\n",
      " [[0 0 0]\n",
      "  [0 0 0]\n",
      "  [0 0 0]\n",
      "  ...\n",
      "  [0 0 0]\n",
      "  [0 0 0]\n",
      "  [0 0 0]]\n",
      "\n",
      " [[0 0 0]\n",
      "  [0 0 0]\n",
      "  [0 0 0]\n",
      "  ...\n",
      "  [0 0 0]\n",
      "  [0 0 0]\n",
      "  [0 0 0]]]\n"
     ]
    }
   ],
   "source": [
    "import cv2\n",
    "import numpy as np\n",
    "\n",
    "# 세로 480 x 가로 640, 3 Channel(RGB)에 해당하는 스케치북 만들기\n",
    "img=np.zeros((480,640,3), dtype=np.uint8)\n",
    "print(img)\n",
    "cv2.imshow('img',img)\n",
    "cv2.waitKey(0)\n",
    "cv2.destroyAllWindows()"
   ]
  },
  {
   "cell_type": "markdown",
   "id": "95821412",
   "metadata": {},
   "source": [
    "### 위의 코드에서 흰 색으로 바꾸고 싶을 때\n",
    "img[:]=(0,0,0) : 색상을 나타내는 코드\n",
    "\n",
    "opencv에서는 RGB가 아니라 BGR로 나타남"
   ]
  },
  {
   "cell_type": "code",
   "execution_count": 10,
   "id": "e3a95471",
   "metadata": {
    "scrolled": true
   },
   "outputs": [
    {
     "name": "stdout",
     "output_type": "stream",
     "text": [
      "[[[255   0   0]\n",
      "  [255   0   0]\n",
      "  [255   0   0]\n",
      "  ...\n",
      "  [255   0   0]\n",
      "  [255   0   0]\n",
      "  [255   0   0]]\n",
      "\n",
      " [[255   0   0]\n",
      "  [255   0   0]\n",
      "  [255   0   0]\n",
      "  ...\n",
      "  [255   0   0]\n",
      "  [255   0   0]\n",
      "  [255   0   0]]\n",
      "\n",
      " [[255   0   0]\n",
      "  [255   0   0]\n",
      "  [255   0   0]\n",
      "  ...\n",
      "  [255   0   0]\n",
      "  [255   0   0]\n",
      "  [255   0   0]]\n",
      "\n",
      " ...\n",
      "\n",
      " [[255   0   0]\n",
      "  [255   0   0]\n",
      "  [255   0   0]\n",
      "  ...\n",
      "  [255   0   0]\n",
      "  [255   0   0]\n",
      "  [255   0   0]]\n",
      "\n",
      " [[255   0   0]\n",
      "  [255   0   0]\n",
      "  [255   0   0]\n",
      "  ...\n",
      "  [255   0   0]\n",
      "  [255   0   0]\n",
      "  [255   0   0]]\n",
      "\n",
      " [[255   0   0]\n",
      "  [255   0   0]\n",
      "  [255   0   0]\n",
      "  ...\n",
      "  [255   0   0]\n",
      "  [255   0   0]\n",
      "  [255   0   0]]]\n"
     ]
    }
   ],
   "source": [
    "import cv2\n",
    "import numpy as np\n",
    "\n",
    "# 세로 480 x 가로 640, 3 Channel(RGB(BGR))에 해당하는 스케치북 만들기\n",
    "img=np.zeros((480,640,3), dtype=np.uint8)\n",
    "img[:]=(255,255,255) # 전체 공간을 흰색으로 채우기\n",
    "print(img)\n",
    "\n",
    "cv2.imshow('img',img)\n",
    "cv2.waitKey(0)\n",
    "cv2.destroyAllWindows()"
   ]
  },
  {
   "cell_type": "markdown",
   "id": "a9e03603",
   "metadata": {},
   "source": [
    "# 일부 영역 색칠"
   ]
  },
  {
   "cell_type": "code",
   "execution_count": 14,
   "id": "99e35320",
   "metadata": {
    "scrolled": true
   },
   "outputs": [],
   "source": [
    "import cv2\n",
    "import numpy as np\n",
    "\n",
    "# 세로 480 x 가로 640, 3 Channel(RGB)에 해당하는 스케치북 만들기\n",
    "img=np.zeros((480,640,3), dtype=np.uint8)\n",
    "img[100:200,200:300]=(255,255,255) # 세로: 100~200픽셀, 가로: 200~300픽셀 만큼을 흰색으로 채운다\n",
    "\n",
    "\n",
    "cv2.imshow('img',img)\n",
    "cv2.waitKey(0)\n",
    "cv2.destroyAllWindows()"
   ]
  },
  {
   "cell_type": "markdown",
   "id": "b92a2259",
   "metadata": {},
   "source": [
    "## 직선\n",
    "직선의 종류(line type)\n",
    "\n",
    "1. cv2.LINE_4 : 상하좌우 4 방향으로 연결된 선\n",
    "2. cv2.LINE_8 : 대각선을 포함한 8 방향으로 연결된 선(기본값)\n",
    "3. cv2.LINE_AA : 부드러운 선(anti-aliasing)"
   ]
  },
  {
   "cell_type": "code",
   "execution_count": 17,
   "id": "0d1c0192",
   "metadata": {},
   "outputs": [],
   "source": [
    "import cv2\n",
    "import numpy as np\n",
    "\n",
    "# 세로 480 x 가로 640, 3 Channel(RGB)에 해당하는 스케치북 만들기\n",
    "img=np.zeros((480,640,3), dtype=np.uint8)\n",
    "\n",
    "COLOR=(0,255,255) # BGR 노란색\n",
    "THICKNESS=3 # 두께\n",
    "\n",
    "cv2.line(img,(50,100),(400,50),COLOR,THICKNESS,cv2.LINE_8) # 그림 위치, 시작점, 끝점, 색깔, 두께, 선 종류\n",
    "cv2.line(img,(50,200),(400,150),COLOR,THICKNESS,cv2.LINE_4)\n",
    "cv2.line(img,(50,300),(400,250),COLOR,THICKNESS,cv2.LINE_AA)\n",
    "\n",
    "cv2.imshow('img',img)\n",
    "cv2.waitKey(0)\n",
    "cv2.destroyAllWindows()"
   ]
  },
  {
   "cell_type": "markdown",
   "id": "3b217a55",
   "metadata": {},
   "source": [
    "## 원"
   ]
  },
  {
   "cell_type": "code",
   "execution_count": 24,
   "id": "eacc6de6",
   "metadata": {},
   "outputs": [],
   "source": [
    "import cv2\n",
    "import numpy as np\n",
    "\n",
    "# 세로 480 x 가로 640, 3 Channel(RGB)에 해당하는 스케치북 만들기\n",
    "img=np.zeros((480,640,3), dtype=np.uint8)\n",
    "\n",
    "COLOR=(255,255,0) # BGR 옥색\n",
    "RADIUS=50 # 반지름\n",
    "THICKNESS=10 # 두께\n",
    "\n",
    "cv2.circle(img,(200,100),RADIUS,COLOR,THICKNESS,cv2.LINE_AA) # 속이 빈 원\n",
    "# 그림 위치, 원의 중심점, 반지름, 색깔, 두께, 선 종류\n",
    "cv2.circle(img,(400,100),RADIUS,COLOR,cv2.FILLED,cv2.LINE_AA) # 속이 채워진 원. THICKNESS 대신에 cv2.FILLED를 쓴다.\n",
    "# cv2.FILLED 대신에 -1로 잡아도 같음\n",
    "\n",
    "cv2.imshow('img',img)\n",
    "cv2.waitKey(0)\n",
    "cv2.destroyAllWindows()"
   ]
  },
  {
   "cell_type": "markdown",
   "id": "684c60dd",
   "metadata": {},
   "source": [
    "## 사각형"
   ]
  },
  {
   "cell_type": "code",
   "execution_count": 34,
   "id": "ef1ff437",
   "metadata": {},
   "outputs": [],
   "source": [
    "import cv2\n",
    "import numpy as np\n",
    "\n",
    "# 세로 480 x 가로 640, 3 Channel(RGB)에 해당하는 스케치북 만들기\n",
    "img=np.zeros((480,640,3), dtype=np.uint8)\n",
    "\n",
    "COLOR=(0,255,0) # BGR 초록색\n",
    "THICKNESS=3 # 두께\n",
    "\n",
    "cv2.rectangle(img,(100,100),(200,200),COLOR,THICKNESS) # 속이 빈 사각형\n",
    "# 그림 위치, 왼쪽 위 좌표, 오른쪽 아래 좌표, 색깔, 두께\n",
    "cv2.rectangle(img,(300,100),(400,200),COLOR,cv2.FILLED) # 속이 채워진 사각형\n",
    "\n",
    "cv2.imshow('img',img)\n",
    "cv2.waitKey(0)\n",
    "cv2.destroyAllWindows()"
   ]
  },
  {
   "cell_type": "markdown",
   "id": "2470dad9",
   "metadata": {},
   "source": [
    "## 다각형"
   ]
  },
  {
   "cell_type": "code",
   "execution_count": 42,
   "id": "69467f25",
   "metadata": {},
   "outputs": [],
   "source": [
    "import cv2\n",
    "import numpy as np\n",
    "\n",
    "# 세로 480 x 가로 640, 3 Channel(RGB)에 해당하는 스케치북 만들기\n",
    "img=np.zeros((480,640,3), dtype=np.uint8)\n",
    "\n",
    "COLOR=(0,0,255) # BGR 빨간색\n",
    "THICKNESS=3 # 두께\n",
    "\n",
    "pts1=np.array([[100,100],[200,100],[100,200]])\n",
    "pts2=np.array([[200,100],[300,100],[300,200]])\n",
    "\n",
    "#cv2.polylines(img,[pts1],True,COLOR,THICKNESS,cv2.LINE_AA)\n",
    "#cv2.polylines(img,[pts2],True,COLOR,THICKNESS,cv2.LINE_AA)\n",
    "cv2.polylines(img,[pts1,pts2],True,COLOR,THICKNESS,cv2.LINE_AA) # 속이 빈 다각형\n",
    "# 그림 위치, 그릴 좌표들, 닫힘 여부, 색깔, 두께, 선 종류\n",
    "\n",
    "pts3=np.array([[[100,300],[200,300],[100,400]],[[200,300],[300,300],[300,400]]])\n",
    "\n",
    "cv2.fillPoly(img,pts3,COLOR,cv2.LINE_AA) # 꽉 찬 다각형\n",
    "# 그림 위치, 그릴 좌표들, 색깔, 선 종류\n",
    "\n",
    "cv2.imshow('img',img)\n",
    "cv2.waitKey(0)\n",
    "cv2.destroyAllWindows()"
   ]
  }
 ],
 "metadata": {
  "kernelspec": {
   "display_name": "Python 3 (ipykernel)",
   "language": "python",
   "name": "python3"
  },
  "language_info": {
   "codemirror_mode": {
    "name": "ipython",
    "version": 3
   },
   "file_extension": ".py",
   "mimetype": "text/x-python",
   "name": "python",
   "nbconvert_exporter": "python",
   "pygments_lexer": "ipython3",
   "version": "3.11.7"
  },
  "toc": {
   "base_numbering": 1,
   "nav_menu": {},
   "number_sections": true,
   "sideBar": true,
   "skip_h1_title": false,
   "title_cell": "Table of Contents",
   "title_sidebar": "Contents",
   "toc_cell": false,
   "toc_position": {
    "height": "calc(100% - 180px)",
    "left": "10px",
    "top": "150px",
    "width": "310.417px"
   },
   "toc_section_display": true,
   "toc_window_display": false
  },
  "varInspector": {
   "cols": {
    "lenName": 16,
    "lenType": 16,
    "lenVar": 40
   },
   "kernels_config": {
    "python": {
     "delete_cmd_postfix": "",
     "delete_cmd_prefix": "del ",
     "library": "var_list.py",
     "varRefreshCmd": "print(var_dic_list())"
    },
    "r": {
     "delete_cmd_postfix": ") ",
     "delete_cmd_prefix": "rm(",
     "library": "var_list.r",
     "varRefreshCmd": "cat(var_dic_list()) "
    }
   },
   "types_to_exclude": [
    "module",
    "function",
    "builtin_function_or_method",
    "instance",
    "_Feature"
   ],
   "window_display": false
  }
 },
 "nbformat": 4,
 "nbformat_minor": 5
}
